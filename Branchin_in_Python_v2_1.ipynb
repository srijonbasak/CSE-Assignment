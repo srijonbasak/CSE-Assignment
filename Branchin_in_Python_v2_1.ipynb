{
 "cells": [
  {
   "cell_type": "markdown",
   "metadata": {
    "id": "rzjRKS3ttwqt"
   },
   "source": [
    "# Task 1\n",
    "\n",
    "Write a Python function that takes the “amount” of money as user input. Then splits that money\n",
    "into 500, 100, 50, 20, 10, 5, 2, and 1 taka notes and print the final result."
   ]
  },
  {
   "cell_type": "code",
   "execution_count": 1,
   "metadata": {
    "colab": {
     "base_uri": "https://localhost:8080/"
    },
    "id": "y4bN4f5xs83p",
    "outputId": "90419d77-9bbd-48ad-8f5c-0dc84c63d4b5"
   },
   "outputs": [
    {
     "name": "stdout",
     "output_type": "stream",
     "text": [
      "Please Enter The Amount : 100\n",
      "100 Taka : 1 note(s)\n"
     ]
    }
   ],
   "source": [
    "trg_money = int(input(\"Please enter the amount : \".title()))\n",
    "note_counter_1 = 0\n",
    "note_counter_2 = 0\n",
    "note_counter_3 = 0\n",
    "note_counter_4 = 0\n",
    "note_counter_5 = 0\n",
    "note_counter_6 = 0\n",
    "note_counter_7 = 0\n",
    "note_counter_8 = 0\n",
    "\n",
    "while trg_money > 499:\n",
    "    note_counter_1 += 1\n",
    "    trg_money -= 500\n",
    "if note_counter_1 > 0:\n",
    "    print(f\"500 Taka : {note_counter_1} note(s)\")\n",
    "\n",
    "\n",
    "while trg_money > 99:\n",
    "    note_counter_2 += 1\n",
    "    trg_money -= 100\n",
    "if note_counter_2 > 0:\n",
    "    print(f\"100 Taka : {note_counter_2} note(s)\")\n",
    "\n",
    "\n",
    "while trg_money > 49:\n",
    "    note_counter_3 += 1\n",
    "    trg_money -= 50\n",
    "if note_counter_3 > 0:\n",
    "    print(f\"50 Taka : {note_counter_3} note(s)\")\n",
    "\n",
    "\n",
    "while trg_money > 19:\n",
    "    note_counter_4 += 1\n",
    "    trg_money -= 20\n",
    "if note_counter_4 > 0:\n",
    "    print(f\"20 Taka : {note_counter_4} note(s)\")\n",
    "\n",
    "\n",
    "while trg_money > 9:\n",
    "    note_counter_5 += 1\n",
    "    trg_money -= 10\n",
    "if note_counter_5 > 0:\n",
    "    print(f\"10 Taka : {note_counter_5} note(s)\")\n",
    "\n",
    "while trg_money > 4:\n",
    "    note_counter_6 += 1\n",
    "    trg_money -= 5\n",
    "if note_counter_6 > 0:\n",
    "    print(f\"5 Taka : {note_counter_6} note(s)\")\n",
    "\n",
    "while trg_money > 1:\n",
    "    note_counter_7 += 1\n",
    "    trg_money -= 2\n",
    "if note_counter_7 > 0:\n",
    "    print(f\"2 Taka : {note_counter_7} note(s)\")\n",
    "\n",
    "while trg_money > 0:\n",
    "    note_counter_8 += 1\n",
    "    trg_money -= 1\n",
    "if note_counter_8 > 0:\n",
    "    print(f\"1 Taka : {note_counter_8} note(s)\")"
   ]
  },
  {
   "cell_type": "markdown",
   "metadata": {
    "id": "jw1Aj4cguDF5"
   },
   "source": [
    "# Task 1 V2\n",
    "\n",
    "Write a Python function that takes the “amount” of money as user input. Then splits that money\n",
    "into 500, 100, 50, 20, 10, 5, 2, and 1 taka notes and print the final result."
   ]
  },
  {
   "cell_type": "code",
   "execution_count": 3,
   "metadata": {
    "colab": {
     "base_uri": "https://localhost:8080/"
    },
    "id": "nTeNC_6_tJcx",
    "outputId": "00e2fb8b-73ae-4cab-c1f0-aa526fa89861"
   },
   "outputs": [
    {
     "name": "stdout",
     "output_type": "stream",
     "text": [
      "Please Enter The Amount : 509\n",
      "500 Taka : 1 note(s)\n",
      "5 Taka : 1 note(s)\n",
      "2 Taka : 2 note(s)\n"
     ]
    }
   ],
   "source": [
    "trg_money = int(input(\"Please enter the amount : \".title()))\n",
    "\n",
    "def note_conv(trg_money, range1):\n",
    "    note_counter = 0\n",
    "    if trg_money < range1:\n",
    "        return trg_money\n",
    "    else:\n",
    "        if trg_money >= range1:\n",
    "            note_counter = trg_money // range1\n",
    "            trg_money %= range1\n",
    "            if note_counter > 0:\n",
    "                print(f\"{range1} Taka : {note_counter} note(s)\")\n",
    "        return trg_money\n",
    "\n",
    "\n",
    "trg_money = note_conv(trg_money, 500)\n",
    "trg_money = note_conv(trg_money, 100)\n",
    "trg_money = note_conv(trg_money, 50)\n",
    "trg_money = note_conv(trg_money, 20)\n",
    "trg_money = note_conv(trg_money, 10)\n",
    "trg_money = note_conv(trg_money, 5)\n",
    "trg_money = note_conv(trg_money, 2)\n",
    "trg_money = note_conv(trg_money, 1)"
   ]
  },
  {
   "cell_type": "code",
   "execution_count": 1,
   "metadata": {},
   "outputs": [
    {
     "name": "stdout",
     "output_type": "stream",
     "text": [
      "Please Enter The Amount : 76\n",
      "50 Taka : 1 note(s)\n",
      "20 Taka : 1 note(s)\n",
      "5 Taka : 1 note(s)\n",
      "1 Taka : 1 note(s)\n"
     ]
    }
   ],
   "source": [
    "trg_money = int(input(\"Please enter the amount : \".title()))\n",
    "\n",
    "currency = (500, 100, 50, 20, 10, 5, 2, 1)\n",
    "\n",
    "for range1 in currency:\n",
    "    note_counter = 0\n",
    "    if trg_money >= range1:\n",
    "        note_counter = trg_money // range1\n",
    "        trg_money %= range1\n",
    "        if note_counter > 0:\n",
    "            print(f\"{range1} Taka : {note_counter} note(s)\")"
   ]
  },
  {
   "cell_type": "markdown",
   "metadata": {
    "id": "hoecOVLquSN2"
   },
   "source": [
    "# Task 2\n",
    "Write Python code of a program that reads three sides of a triangle and check whether the\n",
    "triangle is valid or not."
   ]
  },
  {
   "cell_type": "code",
   "execution_count": 2,
   "metadata": {
    "id": "NtKdnoeCtZ18"
   },
   "outputs": [
    {
     "name": "stdout",
     "output_type": "stream",
     "text": [
      "Please Enter The First Side : 1\n",
      "please Enter The Second Side : 1\n",
      "Please Enter The Third Side : 2\n",
      "Not a valid triangle\n"
     ]
    }
   ],
   "source": [
    "first_side = int(input(\"Please Enter The First Side : \"))\n",
    "second_side = int(input(\"please Enter The Second Side : \"))\n",
    "third_side = int(input(\"Please Enter The Third Side : \"))\n",
    "sum_of2_sides = first_side + second_side\n",
    "\n",
    "if third_side < sum_of2_sides and first_side > 0 and second_side > 0 and third_side > 0:\n",
    "    print(\"Valid triangle\")\n",
    "else:\n",
    "    print(\"Not a valid triangle\")"
   ]
  },
  {
   "cell_type": "markdown",
   "metadata": {
    "id": "_J7oUPTnueTO"
   },
   "source": [
    "# Task 3\n",
    "Write a python code of a program that reads the values for the three sides x, y, and z of a\n",
    "triangle, and then calculates its area. The area is calculated as follows:"
   ]
  },
  {
   "cell_type": "code",
   "execution_count": null,
   "metadata": {
    "id": "u6V_JEQRtgaY"
   },
   "outputs": [],
   "source": [
    "import math\n",
    "\n",
    "x = int(input(\"X : \"))\n",
    "y = int(input(\"Y : \"))\n",
    "z = int(input(\"z : \"))\n",
    "\n",
    "s = (x+y+z)/2\n",
    "area = math.sqrt((s-x)*(s-y)*(s-z))*s\n",
    "\n",
    "print(area)\n",
    "\n"
   ]
  },
  {
   "cell_type": "markdown",
   "metadata": {
    "id": "DD_w50PFto10"
   },
   "source": [
    "# Task 4\n",
    "Write Python code of a program that reads a number as a year and determines whether it is a\n",
    "leap year or not."
   ]
  },
  {
   "cell_type": "code",
   "execution_count": null,
   "metadata": {
    "id": "rCppZxqAtkCf"
   },
   "outputs": [
    {
     "name": "stdout",
     "output_type": "stream",
     "text": [
      "Enter year to Check : 2002\n",
      "2002 is not a leap year\n",
      "Enter year to Check : 2004\n",
      "2004 is leap year\n"
     ]
    }
   ],
   "source": [
    "year = 1\n",
    "\n",
    "while year != 0:\n",
    "\n",
    "    year = int(input(\"Enter year to Check : \"))\n",
    "\n",
    "    if  year <= 0:\n",
    "        print(\"Please Enter any valid Year\")\n",
    "        quit()\n",
    "\n",
    "    elif (year % 4 == 0 and  year % 100 != 0) or year % 400 == 0:\n",
    "        print(f\"{year} is leap year\")\n",
    "\n",
    "    else:\n",
    "        print(f\"{year} is not a leap year\")"
   ]
  }
 ],
 "metadata": {
  "colab": {
   "collapsed_sections": [],
   "name": "Branchin_in_Python_v2_1.ipynb",
   "provenance": []
  },
  "kernelspec": {
   "display_name": "Python 3 (ipykernel)",
   "language": "python",
   "name": "python3"
  },
  "language_info": {
   "codemirror_mode": {
    "name": "ipython",
    "version": 3
   },
   "file_extension": ".py",
   "mimetype": "text/x-python",
   "name": "python",
   "nbconvert_exporter": "python",
   "pygments_lexer": "ipython3",
   "version": "3.9.7"
  }
 },
 "nbformat": 4,
 "nbformat_minor": 1
}
