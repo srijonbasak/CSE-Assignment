{
 "cells": [
  {
   "cell_type": "raw",
   "id": "d50e90c5",
   "metadata": {},
   "source": [
    "Write a function called even_checker that takes a number as an argument and prints whether the number is even or odd inside the function.\n",
    "===================================================================\n",
    "Example 1:\n",
    "\n",
    "Function Call:\n",
    "even_checker(5)\n",
    "\n",
    "Output:\n",
    "Odd!!\n",
    "===================================================================\n",
    "\n",
    "Example2:\n",
    "\n",
    "Function Call:\n",
    "even_checker(2)\n",
    "\n",
    "Output:\n",
    "Even!!"
   ]
  },
  {
   "cell_type": "code",
   "execution_count": 1,
   "id": "d1dbf795",
   "metadata": {},
   "outputs": [
    {
     "name": "stdout",
     "output_type": "stream",
     "text": [
      "Odd!!\n"
     ]
    }
   ],
   "source": [
    "def even_checker(number):\n",
    "    if number % 2 ==0:\n",
    "        print(\"Even!!\")\n",
    "    else:\n",
    "        print(\"Odd!!\")\n",
    "even_checker(5)"
   ]
  },
  {
   "cell_type": "raw",
   "id": "bb1262ca",
   "metadata": {},
   "source": [
    "Write a python function that takes the limit as an argument of the Fibonacci series and prints till that limit.\n",
    "===================================================================\n",
    "Function Call: \n",
    "fibonacci(10)\n",
    "\n",
    "Output:\n",
    "0 1 1 2 3 5 8\n",
    "=================================================================== \n",
    "Function Call:\n",
    "fibonacci(5)\n",
    "\n",
    "Output:\n",
    "0 1 1 2 3 5"
   ]
  },
  {
   "cell_type": "code",
   "execution_count": 1,
   "id": "090a3718",
   "metadata": {},
   "outputs": [
    {
     "name": "stdout",
     "output_type": "stream",
     "text": [
      "0\n",
      "1\n",
      "1\n",
      "2\n",
      "3\n",
      "5\n"
     ]
    }
   ],
   "source": [
    "def fibonacci(limit):\n",
    "    x = 0\n",
    "    y = 1\n",
    "    z = x+y\n",
    "    while x <= limit:\n",
    "        print(x)\n",
    "        z = x+y\n",
    "        x = y\n",
    "        y = z\n",
    "fibonacci(5)"
   ]
  },
  {
   "cell_type": "raw",
   "id": "1a29be40",
   "metadata": {},
   "source": [
    "Write a function called foo_moo that takes a number as an argument and returns the following statements according to the below mentioned conditions. Then, finally prints the statement in the function call.\n",
    "If the number is divisible by 2, it should return \"Foo\".\n",
    "If the number is divisible by 3, it should return \"Moo\".\n",
    "If the number is divisible by both 2 and 3, it should return \"FooMoo\".\n",
    "Otherwise, it returns \"Boo\".\n",
    "Example1: Function Call: foo_moo(5) Output: Boo\n",
    "===================================================================\n",
    "Example2: Function Call: foo_moo(4) Output: Foo\n",
    "===================================================================\n",
    "Example3: Function Call: foo_moo(6) Output: FooMoo"
   ]
  },
  {
   "cell_type": "code",
   "execution_count": 8,
   "id": "591e11d3",
   "metadata": {},
   "outputs": [
    {
     "name": "stdout",
     "output_type": "stream",
     "text": [
      "Foomoo\n"
     ]
    }
   ],
   "source": [
    "def foo_moo(num):\n",
    "    if num % 2==0 and num % 3 == 0:\n",
    "        print('FooMoo')\n",
    "    elif num % 2 ==0:\n",
    "        print('Foo')\n",
    "    elif num % 3 == 0:\n",
    "        print('Moo')\n",
    "    else:\n",
    "        print('Boo')\n",
    "foo_moo(6)"
   ]
  },
  {
   "cell_type": "raw",
   "id": "64e5e870",
   "metadata": {},
   "source": [
    "Write a python function that takes a string as an argument. Your task is to calculate the number of uppercase letters and lowercase letters and print them in the function.\n",
    "===================================================================\n",
    "Function Call: \n",
    "function_name('The quick Sand Man')\n",
    "\n",
    "Output: \n",
    "No. of Uppercase characters : 3 \n",
    "No. of Lowercase Characters: 12\n",
    "=================================================================== \n",
    "Function Call:\n",
    "function_name('HaRRy PotteR') \n",
    "\n",
    "Output: \n",
    "No. of Uppercase characters : 5 \n",
    "No. of Lowercase Characters: 6"
   ]
  },
  {
   "cell_type": "code",
   "execution_count": 9,
   "id": "a1f48460",
   "metadata": {},
   "outputs": [
    {
     "name": "stdout",
     "output_type": "stream",
     "text": [
      "No. of Uppercase characters : 5\n",
      "No. of Lowercase Characters: 6\n"
     ]
    }
   ],
   "source": [
    "def function_name(sen):\n",
    "    upper_counter = 0\n",
    "    lower_counter = 0\n",
    "    for letter in sen:\n",
    "        if 65<= ord(letter) <=90:\n",
    "            upper_counter +=1\n",
    "        elif 97<= ord(letter) <= 122:\n",
    "            lower_counter += 1\n",
    "    print(f'No. of Uppercase characters : {upper_counter}')\n",
    "    print(f'No. of Lowercase Characters: {lower_counter}')\n",
    "    \n",
    "function_name('HaRRy PotteR')"
   ]
  },
  {
   "cell_type": "raw",
   "id": "aaf55b51",
   "metadata": {},
   "source": [
    "# Write a function called calculate_tax that takes 3 arguments: your age, salary, and current job designation.\n",
    "Your first task is to take these arguments as user input and pass these values to the function.\n",
    "Your second task is to implement the function and calculate the tax as the following conditions:\n",
    "NO TAX IF YOU ARE LESS THAN 18 YEARS OLD.\n",
    "NO TAX IF YOU ARE THE PRESIDENT OF THE COMPANY\n",
    "No tax if you get paid less than 10,000\n",
    "5% tax if you get paid between 10K and 20K\n",
    "10% tax if you get paid more than 20K\n",
    "Finally return this tax value. Then print the returned value in the function call.\n",
    "Hints: Here the job designation is a string, so it can be written in both uppercase and lower cases. So, you need to check the value ignoring the case.\n",
    "===================================================================\n",
    "Example1: Input: 16 20000 Student Function Call: calculate_tax(16, 20000, 'Student') Output: 0\n",
    "===================================================================\n",
    "Example2: Input: 20 18000 assistant manager Function Call: calculate_tax(20, 18000, 'assistant manager') Output: 900.0\n",
    "===================================================================\n",
    "Example3: Input: 20 22000 assistant manager Function Call: calculate_tax(20, 22000, 'Assistant manager') Output: 2200.0\n",
    "===================================================================\n",
    "Example4: Input: 20 122000 president Function Call: calculate_tax(20, 122000, 'president') Output: 0"
   ]
  },
  {
   "cell_type": "code",
   "execution_count": 11,
   "id": "251a0445",
   "metadata": {},
   "outputs": [
    {
     "name": "stdout",
     "output_type": "stream",
     "text": [
      "2200.0\n"
     ]
    }
   ],
   "source": [
    "def calculate_tax(age,sallary,job):\n",
    "    if age < 18 or sallary < 10000 or job.lower() == 'president':\n",
    "        print(0)\n",
    "    elif 10000<= sallary <=20000:\n",
    "        print(sallary*0.05)\n",
    "    elif sallary >20000:\n",
    "        print(sallary*0.1)\n",
    "calculate_tax(20, 22000, 'Assistant manager')"
   ]
  },
  {
   "cell_type": "raw",
   "id": "171585d6",
   "metadata": {},
   "source": [
    "Write a function which will take 1 argument, number of days.\n",
    "Your first task is to take the number of days as user input and pass the value to the function.\n",
    "Your second task is to implement the function and calculate the total number of years, number of months, and the remaining number of days as output. No need to return any value, print inside the function.\n",
    "Note: Assume, each year to be 365 days and month to be 30 days.\n",
    "Hint(1): Divide and mod the main input to get the desired output.\n",
    "Hint(2): This task’s calculation is similar to Assignment-1’s seconds to hours, minutes conversion.\n",
    "Example01\n",
    "Input: 4330 Function Call: function_name(4330) Output: 11 years, 10 months and 15 days\n",
    "===================================================================\n",
    "Example02\n",
    "Input: 2250 Function Call: function_name(2250) Output: 6 years, 2 months and 0 days"
   ]
  },
  {
   "cell_type": "code",
   "execution_count": 12,
   "id": "cc5282cf",
   "metadata": {},
   "outputs": [
    {
     "name": "stdout",
     "output_type": "stream",
     "text": [
      "11 years, 10 months and 15 days\n"
     ]
    }
   ],
   "source": [
    "def function_name(days):\n",
    "    years = days // 365\n",
    "    days %= 365\n",
    "    months = days // 30\n",
    "    days %=30\n",
    "    print(f'{years} years, {months} months and {days} days')\n",
    "function_name(4330)"
   ]
  },
  {
   "cell_type": "raw",
   "id": "c1f8f110",
   "metadata": {},
   "source": [
    "Write a function called show_palindrome that takes a number as an argument and then returns a palindrome string. Finally, prints the returned value in the function call.\n",
    "Example1: Function Call: show_palindrome(5) Output: 123454321\n",
    "===================================================================\n",
    "Example2: Function Call: show_palindrome(3) Output: 12321"
   ]
  },
  {
   "cell_type": "code",
   "execution_count": 1,
   "id": "ba1eb072",
   "metadata": {},
   "outputs": [
    {
     "name": "stdout",
     "output_type": "stream",
     "text": [
      "12321\n"
     ]
    }
   ],
   "source": [
    "def show_palindrome(limit,key=''):\n",
    "    temp =''\n",
    "    for x in range(1,limit):\n",
    "        temp += str(x) + key\n",
    "    for x in range(limit,0,-1):\n",
    "        temp += str(x) + key\n",
    "    print(temp)\n",
    "show_palindrome(3)"
   ]
  },
  {
   "cell_type": "raw",
   "id": "0f790c38",
   "metadata": {},
   "source": [
    "Write a function called show_palindromic_triangle that takes a number as an argument and prints a Palindromic Triangle in the function.\n",
    "[Must reuse the show_palindrome() function of the previous task]\n",
    "===================================================================\n",
    "Hints(1): Need to use both print() and print( , end = \" \") functions\n",
    "===================================================================\n",
    "Example1: Function Call: show_palindromic_triangle(5) Output:\n",
    "       1\n",
    "     1 2 1 \n",
    "   1 2 3 2 1 \n",
    "  1 2 3 4 3 2 1\n",
    "1 2 3 4 5 4 3 2 1\n",
    "===================================================================\n",
    "Example2: \n",
    "\n",
    "Function Call: \n",
    "show_palindromic_triangle(3) \n",
    "\n",
    "Output:\n",
    "    1 \n",
    "  1 2 1 \n",
    "1 2 3 2 1"
   ]
  },
  {
   "cell_type": "code",
   "execution_count": 6,
   "id": "9daa6ed2",
   "metadata": {},
   "outputs": [
    {
     "name": "stdout",
     "output_type": "stream",
     "text": [
      "       1 \n",
      "     1 2 1 \n",
      "   1 2 3 2 1 \n",
      " 1 2 3 4 3 2 1 \n"
     ]
    }
   ],
   "source": [
    "def show_palindrome(limit,key=''):\n",
    "    temp =''\n",
    "    for x in range(1,limit):\n",
    "        temp += str(x) + key\n",
    "    for x in range(limit,0,-1):\n",
    "        temp += str(x) + key\n",
    "    print(temp)\n",
    "def show_palindromic_triangle(limit_of_triangle):\n",
    "    for x in range(1,limit_of_triangle+1):\n",
    "        print(' '*((limit_of_triangle-x)*2), end=' ')\n",
    "        show_palindrome(x,' ')\n",
    "show_palindromic_triangle(4)"
   ]
  },
  {
   "cell_type": "raw",
   "id": "156b7730",
   "metadata": {},
   "source": [
    "Write a function called area_circumference_generator that takes a radius of a circle as a function parameter and calculates its circumference and area. Then returns these two results as a tuple and prints the results using tuple unpacking in the function call according to the given format.\n",
    "[Must use tuple packing & unpacking]\n",
    "===================================================================\n",
    "Example1: \n",
    "Function Call: \n",
    "area_circumference_generator(1) \n",
    "Output: \n",
    "(3.141592653589793, 6.283185307179586) \n",
    "Area of the circle is 3.141592653589793 and circumference is 6.283185307179586\n",
    "Example2: Function Call: area_circumference_generator(1.5) Output: (7.0685834705770345, 9.42477796076938) Area of the circle is 7.0685834705770345 and circumference is 9.42477796076938\n",
    "===================================================================\n",
    "Example3: Function Call: area_circumference_generator(2.5) Output: (19.634954084936208, 15.707963267948966) Area of the circle is 19.634954084936208 and circumference is 15.707963267948966"
   ]
  },
  {
   "cell_type": "code",
   "execution_count": 1,
   "id": "41b8bd4b",
   "metadata": {},
   "outputs": [
    {
     "name": "stdout",
     "output_type": "stream",
     "text": [
      "(3.142857142857143, 6.285714285714286)\n",
      "Area of the circle is 3.142857142857143 and circumference is 6.285714285714286\n"
     ]
    }
   ],
   "source": [
    "def area_circumference_generator(radious):\n",
    "    circumference = 2*(22/7)*radious\n",
    "    area = (22/7)*(radious**2)\n",
    "    result = area,circumference\n",
    "    print(result)\n",
    "    print(f'Area of the circle is {area} and circumference is {circumference}')\n",
    "area_circumference_generator(1)"
   ]
  },
  {
   "cell_type": "raw",
   "id": "4cfe7625",
   "metadata": {},
   "source": [
    "Write a function called make_square that takes a tuple in the parameter as a range of numbers (starting point and ending point (included)). The function should return a dictionary with the numbers as keys and its squares as values.\n",
    "===================================================================\n",
    "Hints: You need to declare a dictionary to store the result. You should use the range function to run the “for loop”.\n",
    "===================================================================\n",
    "Example1: \n",
    "Function Call: \n",
    "make_square((1,3)) \n",
    "Output: \n",
    "{1: 1, 2: 4, 3: 9}\n",
    "===================================================================\n",
    "Example2: Function Call: make_square((5,9)) Output: {5: 25, 6: 36, 7: 49, 8: 64, 9: 81}"
   ]
  },
  {
   "cell_type": "code",
   "execution_count": 27,
   "id": "bea2d220",
   "metadata": {},
   "outputs": [
    {
     "data": {
      "text/plain": [
       "{1: 1, 2: 4, 3: 9}"
      ]
     },
     "execution_count": 27,
     "metadata": {},
     "output_type": "execute_result"
    }
   ],
   "source": [
    "def make_square(tup):\n",
    "    start, end = tup\n",
    "    result = {}\n",
    "    for x in range(start,end+1):\n",
    "        result[x] = x*x\n",
    "    return result\n",
    "make_square((1,3))"
   ]
  },
  {
   "cell_type": "raw",
   "id": "b474334b",
   "metadata": {},
   "source": [
    "Write a function called rem_duplicate that takes a tuple in the parameter and return a tuple removing all the duplicate values. Then print the returned tuple in the function call.\n",
    "[Cannot use remove() or removed() for this task]\n",
    "===================================================================\n",
    "Hints: Unlike lists, tuples are immutable, so the tuple taken as an argument cannot be modified. But the list can be modified and lastly for returning the result use type conversion. You need to use membership operators (in, not in) for preventing adding any duplicates values.\n",
    "===================================================================\n",
    "Example1: Function Call: rem_duplicate((1,1,1,2,3,4,5,6,6,6,6,4,0,0,0)) Output: (1, 2, 3, 4, 5, 6, 0)\n",
    "===================================================================\n",
    "Example2: Function Call: rem_duplicate((\"Hi\", 1, 2, 3, 3, \"Hi\",'a', 'a', [1,2])) Output: ('Hi', 1, 2, 3, 'a', [1, 2])"
   ]
  },
  {
   "cell_type": "code",
   "execution_count": 29,
   "id": "28647cf6",
   "metadata": {},
   "outputs": [
    {
     "data": {
      "text/plain": [
       "(1, 2, 3, 4, 5, 6, 0)"
      ]
     },
     "execution_count": 29,
     "metadata": {},
     "output_type": "execute_result"
    }
   ],
   "source": [
    "def rem_duplicate(tup):\n",
    "    tup = list(tup)\n",
    "    result =[]\n",
    "    for x in tup:\n",
    "        if x not in result:\n",
    "            result.append(x)\n",
    "    result = tuple(result)\n",
    "    return result\n",
    "rem_duplicate((1,1,1,2,3,4,5,6,6,6,6,4,0,0,0))\n"
   ]
  },
  {
   "cell_type": "raw",
   "id": "1d6dd427",
   "metadata": {},
   "source": [
    "Write a python function that takes a list as an argument. Your task is to create a new list where each element can be present at max 2 times. Inside the function, print the number of elements removed from the given list. Finally, return the new list and print the result.\n",
    "=====================================================\n",
    "Hint: You may use list_name.count(element) to count the total number of times an element is in a list. list_name is your new list for this problem.\n",
    "=====================================================\n",
    "Function Call: function_name([1, 2, 3, 3, 3, 3, 4, 5, 8, 8]) Output: Removed: 2 [1, 2, 3, 3, 4, 5, 8, 8] ================================ Function Call: function_name([10, 10, 15, 15, 20]) Output: Removed: 0 [10, 10, 15, 15, 20]"
   ]
  },
  {
   "cell_type": "code",
   "execution_count": 32,
   "id": "d758e743",
   "metadata": {},
   "outputs": [
    {
     "data": {
      "text/plain": [
       "[1, 2, 3, 3, 4, 5, 8, 8]"
      ]
     },
     "execution_count": 32,
     "metadata": {},
     "output_type": "execute_result"
    }
   ],
   "source": [
    "def function_name(list1):\n",
    "    result = []\n",
    "    for x in list1:\n",
    "        if x not in result:\n",
    "            result.append(x)\n",
    "        else:\n",
    "            if result.count(x) <2:\n",
    "                result.append(x)\n",
    "    return result\n",
    "function_name([1, 2, 3, 3, 3, 3, 4, 5, 8, 8])\n"
   ]
  },
  {
   "cell_type": "raw",
   "id": "48de81b6",
   "metadata": {},
   "source": [
    "Write a python function that will perform the basic calculation (addition, subtraction, multiplication and division) based on 3 arguments. They are:\n",
    "Operator ('+', '-', '/', '*')\n",
    "First Operand (any number)\n",
    "Second Operand (any number)\n",
    "Your first task is to take these arguments as user input and pass the values to the function parameters.\n",
    "Your second task is to write a function and perform the calculation based on the given operator. Then, finally return the result in the function call and print the result.\n",
    "=====================================================\n",
    "Input: \"+\" 10 20 Function Call: function_name(\"+\", 10, 20) Output: 30.0\n",
    "================================\n",
    "Input: \"*\" 5.5 2.5 Function Call: function_name(\"*\", 5.5, 2.5) Output: 13.75"
   ]
  },
  {
   "cell_type": "code",
   "execution_count": 46,
   "id": "6f4e7adb",
   "metadata": {},
   "outputs": [
    {
     "data": {
      "text/plain": [
       "13.75"
      ]
     },
     "execution_count": 46,
     "metadata": {},
     "output_type": "execute_result"
    }
   ],
   "source": [
    "def calculator(oparator,first,second):\n",
    "    if oparator == '+':\n",
    "        result = first+second\n",
    "    elif oparator == '-':\n",
    "        result = first-second\n",
    "    elif oparator == '/':\n",
    "        result = first/second\n",
    "    elif oparator == '*':\n",
    "        result = first*second\n",
    "    return result\n",
    "calculator(\"*\", 5.5, 2.5)"
   ]
  },
  {
   "cell_type": "raw",
   "id": "2ea2941c",
   "metadata": {},
   "source": [
    "Write a function which will take 2 arguments. They are:\n",
    "• Sentence\n",
    "• Position\n",
    "Your first task is to take these arguments as user input and pass these values to the function parameters.\n",
    "Your second task is to implement the function and remove the characters at the index number which is divisible by the position (Avoid the index number 0 as it will always be divisible by the position, so no need to remove the index 0 character). Finally, add the removed characters at the end of the new string.\n",
    "Return the value and then finally, print the new string at the function call.\n",
    "[Cannot use remove() or removed() for this task]\n",
    "Input: \"I love programming.\" 3 Function call: function_name(\"I love programming.\", 3) Output: I lveprgrmmngo oai.\n",
    "===================================================================\n",
    "Input: \"Python is easy to learn. I love python.\" 6 Function call: function_name(\"Python is easy to learn. I love python.\", 6) Output: Pythonis eay to earn.I lov pythn. sl eo"
   ]
  },
  {
   "cell_type": "code",
   "execution_count": 48,
   "id": "b5df68fb",
   "metadata": {},
   "outputs": [
    {
     "data": {
      "text/plain": [
       "'Pythonis eay to earn.I lov pythn. sl eo'"
      ]
     },
     "execution_count": 48,
     "metadata": {},
     "output_type": "execute_result"
    }
   ],
   "source": [
    "def remove_position(sentence,position):\n",
    "    result = ''\n",
    "    temp = ''\n",
    "    for x in range(len(sentence)):\n",
    "        if x == 0:\n",
    "            result += sentence[x]\n",
    "        elif x % position ==0:\n",
    "            temp+= sentence[x]\n",
    "        else:\n",
    "            result += sentence[x]\n",
    "    return result+temp\n",
    "remove_position(\"Python is easy to learn. I love python.\", 6)"
   ]
  },
  {
   "cell_type": "raw",
   "id": "d6faf06e",
   "metadata": {},
   "source": [
    "You have been hired as an app developer for the company. The company plans to make an app for a grocery store where the user can order groceries and see the total amount to be paid in the cart section.\n",
    "To build this feature, you have to write a function that takes 2 arguments. They are:\n",
    "• order_items (must be a list)\n",
    "• location (default value should be set to \"Dhanmondi\")\n",
    "Your first task is to take a list of items from the user. Pass the list into the function parameter along with the optional location (Use default argument technique). (Also, no need to take location as input, pass this any value you want.)\n",
    "Your second task is to implement the function. In the function, create a dictionary for the items shown in the table. Calculate the total price of the items passed as a list to the function. Additionally, add a delivery fee of 30 taka if the location is Dhanmondi. Otherwise, add a delivery fee of 70 taka. Finally, return the value and print it.\n",
    "Item\n",
    "Price(Tk)\n",
    "Rice\n",
    "105\n",
    "Potato\n",
    "20\n",
    "Chicken\n",
    "250\n",
    "Beef\n",
    "510\n",
    "Oil\n",
    "85\n",
    "Hint: The keys are the items and values are the corresponding price. Iterate the items in the list and check if the items in the list are available in the dictionary keys or not. If it is available, add the price.\n",
    "===================================================================\n",
    "Example1: function_name([\"Rice\", \"Beef\", \"Rice\"], \"Mohakhali\")\n",
    "total = 105 + 510 + 105 = 720 (Take the price of each item and add them.) total = 720 + 70 = 790 (Finally, add the delivery fee based on the location.)\n",
    "Input: [\"Rice\", \"Beef\", \"Rice\"] Function Call: function_name([\"Rice\", \"Beef\", \"Rice\"], \"Mohakhali\") Output: 790\n",
    "===================================================================\n",
    "Example2:\n",
    "function_name([\"Rice\", \"Beef\", \"Rice\"])\n",
    "total = 105 + 510 + 105 = 720 (Take the price of each item and add them.) total = 720 + 30 = 750 (Since no location is passed in the parameter, it will use the default location-\"Dhanmondi\". For Dhanmondi, delivery fee of 30 taka)\n",
    "Input: [\"Rice\", \"Beef\", \"Rice\"] Function Call: function_name([\"Rice\", \"Beef\", \"Rice\"]) Output: 750"
   ]
  },
  {
   "cell_type": "code",
   "execution_count": 51,
   "id": "1f035d88",
   "metadata": {},
   "outputs": [
    {
     "data": {
      "text/plain": [
       "790"
      ]
     },
     "execution_count": 51,
     "metadata": {},
     "output_type": "execute_result"
    }
   ],
   "source": [
    "def cart(items,location='Dhanmondi'):\n",
    "    total = 0\n",
    "    for item in items:\n",
    "        if item == 'Rice':\n",
    "            total += 105\n",
    "        elif item == 'Potato':/\n",
    "            total += 20\n",
    "        elif item == \"Beef\":\n",
    "            total += 510\n",
    "        elif item == 'Oil':\n",
    "            total += 85\n",
    "    if location.lower() == 'dhanmondi':\n",
    "        total += 30\n",
    "    else:\n",
    "        total += 70\n",
    "    return total\n",
    "cart([\"Rice\", \"Beef\", \"Rice\"], \"Mohakhali\")"
   ]
  },
  {
   "cell_type": "raw",
   "id": "37295002",
   "metadata": {},
   "source": [
    "Optional Tasks (23 -28) [Ungraded]\n",
    "Task 23\n",
    "Write a function called splitting_money that takes an “amount” of money as an argument.\n",
    "Your first task is to take the “amount” of money as user input and pass the value to the function parameter.\n",
    "Your second task is to implement the function and calculate how that money can be split into 500, 100, 50, 20, 10, 5, 2, and 1 taka notes.\n",
    "Then print the returned value in the function call.\n",
    "===================================================================\n",
    "Hints: This task’s calculation is similar to Assignment-1’s seconds to hours, minutes conversion. To return the result containing multiple strings, you need to store it in a variable and return it at the end of the function.\n",
    "===================================================================\n",
    "Example1: If the money is 1234, then the function should return\n",
    "\"500 Taka: 2 note(s) 100 Taka: 2 note(s) 20 Taka: 1 note(s) 10 Taka: 1 note(s) 2 Taka: 2 note(s)\"\n",
    "=====================================================\n",
    "Example2: If the money is 151, then the function should return\n",
    "\"100 Taka: 1 note(s) 50 Taka: 1 note(s) 1 Taka: 1 note(s)\""
   ]
  },
  {
   "cell_type": "code",
   "execution_count": 1,
   "id": "22c201b5",
   "metadata": {},
   "outputs": [
    {
     "name": "stdout",
     "output_type": "stream",
     "text": [
      "500 Taka: 1 note(s)\n",
      "20 Taka: 2 note(s)\n",
      "2 Taka: 1 note(s)\n",
      "1 Taka: 1 note(s)\n"
     ]
    }
   ],
   "source": [
    "def note_counter(money):\n",
    "    currency = (500,100,50,20,10,5,2,1)\n",
    "    for note in currency:\n",
    "        note_count = money // note\n",
    "        money = money % note\n",
    "        if note_count > 0:\n",
    "            print(f'{note} Taka: {note_count} note(s)')\n",
    "note_counter(543)"
   ]
  },
  {
   "cell_type": "raw",
   "id": "635f1934",
   "metadata": {},
   "source": [
    "Write a function called remove_odd that takes a list of numbers that have both even and odd numbers mixed. Your function should remove all the odd numbers and return a compact list which only contains the even numbers.\n",
    "[Cannot use remove() or removed() for this task]\n",
    "===================================================================\n",
    "Example1: Function Call: remove_odd ([21, 33, 44, 66, 11, 1, 88, 45, 10, 9]) Output: [44, 66, 88, 10]\n",
    "Example2: Function Call: remove_odd ([11,2,3,4,5,2,0,5,3]) Output: [2, 4, 2, 0]"
   ]
  },
  {
   "cell_type": "code",
   "execution_count": 3,
   "id": "d9d223d7",
   "metadata": {},
   "outputs": [
    {
     "data": {
      "text/plain": [
       "[44, 66, 88, 10]"
      ]
     },
     "execution_count": 3,
     "metadata": {},
     "output_type": "execute_result"
    }
   ],
   "source": [
    "def remove_odd(num_list):\n",
    "    result =[]\n",
    "    for x in num_list:\n",
    "        if x % 2 ==0:\n",
    "            result.append(x)\n",
    "    return result\n",
    "remove_odd ([21, 33, 44, 66, 11, 1, 88, 45, 10, 9])"
   ]
  },
  {
   "cell_type": "raw",
   "id": "24f73ff6",
   "metadata": {},
   "source": [
    "Write a function which will take 4 arguments. They are:\n",
    "• starting value(inclusive)\n",
    "• ending value(exclusive)\n",
    "• first divisor\n",
    "• second divisor\n",
    "Your first task is to take these arguments as user input and pass these values to the function.\n",
    "Your second task is to implement the function and find all the numbers that are divisible by the first divisor or second divisor but not both from the starting value(inclusive) and ending value(exclusive). Add all the numbers that are divisible and finally return this value. Print the returned value in the function call.\n",
    "=====================================================\n",
    "Input: 10 40 4 7 Function Call: function_name(10, 40, 4, 7) Output: 210 ================================ Input: 5 100 3 4 Function Call: function_name(5, 100, 3, 4) Output: 2012"
   ]
  },
  {
   "cell_type": "code",
   "execution_count": 5,
   "id": "268675a0",
   "metadata": {},
   "outputs": [
    {
     "name": "stdout",
     "output_type": "stream",
     "text": [
      "5\n",
      "100\n",
      "3\n",
      "4\n"
     ]
    },
    {
     "data": {
      "text/plain": [
       "2012"
      ]
     },
     "execution_count": 5,
     "metadata": {},
     "output_type": "execute_result"
    }
   ],
   "source": [
    "def find_divisor_sum(start,end,first,second):\n",
    "    total = 0\n",
    "    for x in range(start,end):\n",
    "        if x % first == 0 and x % second == 0:\n",
    "            pass\n",
    "        elif x % first == 0 or x % second == 0:\n",
    "            total += x\n",
    "    return total\n",
    "start = int(input())\n",
    "end = int(input())\n",
    "first = int(input())\n",
    "second = int(input())\n",
    "find_divisor_sum(start,end,first,second)"
   ]
  },
  {
   "cell_type": "raw",
   "id": "91cc56f2",
   "metadata": {},
   "source": [
    "Write a python function which will take a string as an argument.\n",
    "Your first task is to take a string as user input and pass the value to the function.\n",
    "Your second task is to implement a function which will check whether all the alphabets from a to j (convert all the alphabets to lowercase) have appeared at least once in the given string or not.\n",
    "• If all of these alphabets (a to j) appear at least once, then the result will be 5.\n",
    "• If any one of the alphabets (a to j) is not in the given string, then the result will be 6.\n",
    "Return this result and print the statement, \"PSG will win the Champions League this season\" that many times.\n",
    "===================================================================\n",
    "Example01: \"A black jackal is hunting a full grown deer\"\n",
    "Here all the alphabets from A to J are present at least once. So, the function will return 5 and will print the statement 5 times.\n",
    "Input: \"A black jackal is hunting a full grown deer\" Function Call: function_name(\"A black jackal is hunting a full grown deer\") Output: PSG will win the Champions League this season PSG will win the Champions League this season PSG will win the Champions League this season PSG will win the Champions League this season PSG will win the Champions League this season\n",
    "===================================================================\n",
    "Example02:\n",
    "Input: \"ABBCDEFEFGHI\" Function Call: function_name(\"ABBCDEFEFGHI\") Output: PSG will win the Champions League this season PSG will win the Champions League this season PSG will win the Champions League this season PSG will win the Champions League this season PSG will win the Champions League this season PSG will win the Champions League this season"
   ]
  },
  {
   "cell_type": "code",
   "execution_count": 9,
   "id": "9991730a",
   "metadata": {},
   "outputs": [
    {
     "name": "stdout",
     "output_type": "stream",
     "text": [
      "abcdefghij\n",
      "PSG will win the Champions League this season\n",
      "PSG will win the Champions League this season\n",
      "PSG will win the Champions League this season\n",
      "PSG will win the Champions League this season\n",
      "PSG will win the Champions League this season\n"
     ]
    }
   ],
   "source": [
    "def alpha_checker(sen):\n",
    "    for x in range(97,107):\n",
    "        if chr(x) not in sen:\n",
    "            return 6\n",
    "    return 5\n",
    "sen = input().lower()\n",
    "msg = 'PSG will win the Champions League this season'\n",
    "for x in range(alpha_checker(sen)):\n",
    "    print(msg)"
   ]
  },
  {
   "cell_type": "raw",
   "id": "7d6e5804",
   "metadata": {},
   "source": [
    "\n",
    "Task 27\n",
    "Write a function called individul_bonus_calculation which will take 4 arguments. They are:\n",
    "• The player name\n",
    "• Yearly earning of that player\n",
    "• The total goal scored this season by that player\n",
    "• Bonus percent per goal.\n",
    "Your task is to implement the above-mentioned function that will calculate the total bonus on the yearly earnings of a player for the total goals he has scored.\n",
    "Additionally,\n",
    "\n",
    "• If the goal scored is above 30, add a (additional) bonus of 10000 taka.\n",
    "• If it is between 20 and 30 inclusive, add an extra 5000 taka.\n",
    "[ For this task, there is no need to take any input from the user. Call the functions and print the values inside the function.]\n",
    "===================================================================\n",
    "Example1: individul_bonus_calculation(\"Neymar\", 1200000, 35, 5)\n",
    "bonus = 35 * (5 / 100 * 1200000) + 10000 = 2110000\n",
    "Function call: individul_bonus_calculation(\"Neymar\", 1200000, 35, 5) Output: Neymar earned a bonus of 2110000 Taka for 35 goals.\n",
    "===================================================================\n",
    "Example2: individul_bonus_calculation('Jamal', 700000, 19, 8)\n",
    "bonus = 19 * (8 / 100 * 700000) + 0 = 1064000\n",
    "Function call: individul_bonus_calculation('Jamal', 700000, 19, 8) Output: Jamal earned a bonus of 1064000 Taka for 19 goals.\n",
    "===================================================================\n",
    "Example3: individul_bonus_calculation('Luis', 80000, 25, 10)\n",
    "bonus = 25 * (10 / 100 * 80000) + 5000 = 205000\n",
    "Function call: individul_bonus_calculation('Luis', 80000, 25, 10) Output: Luis earned a bonus of 205000 Taka for 25 goals."
   ]
  },
  {
   "cell_type": "code",
   "execution_count": 11,
   "id": "0c649c0b",
   "metadata": {},
   "outputs": [
    {
     "name": "stdout",
     "output_type": "stream",
     "text": [
      "Luis earned a bonus of 205000 Taka for 25 goals\n"
     ]
    }
   ],
   "source": [
    "def individul_bonus_calculation(player,earning,goal,per_goal):\n",
    "    bouns = int(goal*(per_goal/100 * earning))\n",
    "    if 20<= goal <=30:\n",
    "        bouns += 5000\n",
    "    elif goal > 30:\n",
    "        bouns += 10000\n",
    "    print(f'{player} earned a bonus of {bouns} Taka for {goal} goals')\n",
    "individul_bonus_calculation('Luis', 80000, 25, 10)"
   ]
  },
  {
   "cell_type": "raw",
   "id": "6fcdeddb",
   "metadata": {},
   "source": [
    "\n",
    "Task 28\n",
    "You have been hired by the Abahani football club to write a function that will calculate the total bonus on the yearly earnings of each player for the total goals they have scored.\n",
    "Since the number of players will vary, you decide to use the \"*args\" technique that you learned in your CSE110 class.\n",
    "For each player: pass the name, yearly earning, the total goal scored this season, bonus percent per goal. Additionally,\n",
    "• If the goal scored is above 30, add an extra bonus of 10000 taka.\n",
    "• If it is between 20 and 30 inclusive, add an extra 5000 taka.\n",
    "[ For this task, there is no need to take any input from the user. Call the functions and print the values inside the function. ]\n",
    "[Must reuse the individul_bonus_calculation() function of the previous task]\n",
    "===================================================================\n",
    "Example1: cal_bonus(\"Neymar\", 1200000, 35, 5)\n",
    "bonus = 35 * (5 / 100 * 1200000) + 10000 = 2110000\n",
    "Function call: cal_bonus(\"Neymar\", 1200000, 35, 5) Output: Neymar earned a bonus of 2110000 Taka for 35 goals.\n",
    "===================================================================\n",
    "Example2: Function call: function_name(\"Neymar\", 1200000, 30, 10, \"Jamal\", 700000, 19, 5) Output: Neymar earned a bonus of 3605000 Taka for 30 goals. Jamal earned a bonus of 665000 Taka for 19 goals.\n",
    "===================================================================\n",
    "Example3: Function call: function_name(\"Neymar\", 1200000, 35, 5, 'Jamal', 700000, 19, 8, 'Luis', 80000, 25, 10)) Output: Neymar earned a bonus of 2110000 Taka for 35 goals. Jamal earned a bonus of 1064000 Taka for 19 goals. Luis earned a bonus of 205000 Taka for 25 goals."
   ]
  },
  {
   "cell_type": "code",
   "execution_count": 13,
   "id": "f098b3c5",
   "metadata": {},
   "outputs": [
    {
     "name": "stdout",
     "output_type": "stream",
     "text": [
      "Neymar earned a bonus of 2110000 Taka for 35 goals\n",
      "Jamal earned a bonus of 1064000 Taka for 19 goals\n",
      "Luis earned a bonus of 205000 Taka for 25 goals\n"
     ]
    }
   ],
   "source": [
    "def individul_bonus_calculation(player,earning,goal,per_goal):\n",
    "    bouns = int(goal*(per_goal/100 * earning))\n",
    "    if 20<= goal <=30:\n",
    "        bouns += 5000\n",
    "    elif goal > 30:\n",
    "        bouns += 10000\n",
    "    print(f'{player} earned a bonus of {bouns} Taka for {goal} goals')\n",
    "def individul_bonus_calculation_with(*args):\n",
    "    x = 0\n",
    "    while x < len(args):\n",
    "        player = args[x]\n",
    "        earning = args[x+1]\n",
    "        goal = args[x+2]\n",
    "        per_goal = args[x+3]\n",
    "        x+=4\n",
    "        individul_bonus_calculation(player,earning,goal,per_goal)\n",
    "individul_bonus_calculation_with(\"Neymar\", 1200000, 35, 5, 'Jamal', 700000, 19, 8, 'Luis', 80000, 25, 10)"
   ]
  },
  {
   "cell_type": "code",
   "execution_count": 10,
   "id": "e995655b",
   "metadata": {},
   "outputs": [
    {
     "name": "stdout",
     "output_type": "stream",
     "text": [
      "['Rice', 'Beef', 'Rice']\n"
     ]
    }
   ],
   "source": [
    "string = '[\"Rice\", \"Beef\", \"Rice\"]'\n",
    "string = string[1:-1].strip('\\\"\"').split('\", \"')\n",
    "print(string)\n"
   ]
  },
  {
   "cell_type": "code",
   "execution_count": 13,
   "id": "883b54bb",
   "metadata": {},
   "outputs": [
    {
     "name": "stdout",
     "output_type": "stream",
     "text": [
      "12.0\n",
      "29.0\n",
      "45.0\n",
      "21.0\n",
      "42.0\n",
      "65.0\n",
      "26.0\n",
      "52.0\n",
      "80.0\n",
      "110.0\n"
     ]
    }
   ],
   "source": [
    "x = 0\n",
    "y = 0\n",
    "sum = 0\n",
    "p = 0.0\n",
    "while (x < 9):\n",
    "    y = x/2\n",
    "    while(y<x):\n",
    "        p = (x + 5.0)/ 2\n",
    "        sum = sum+2 + x + y*2 + int(p)\n",
    "        print(sum)\n",
    "        y=y+1\n",
    "    x = x+2\n",
    "    if (x>5):\n",
    "        sum = 2\n",
    "    else:\n",
    "        sum += 3"
   ]
  },
  {
   "cell_type": "code",
   "execution_count": 14,
   "id": "f7a60ced",
   "metadata": {},
   "outputs": [
    {
     "name": "stdout",
     "output_type": "stream",
     "text": [
      "5 == 5\n",
      "2 == 2\n",
      "0 == 0\n",
      "-3 != -2\n",
      "-5 != -5\n",
      "-8 != -7\n",
      "-10 != -10\n"
     ]
    }
   ],
   "source": [
    "i = 10\n",
    "while(i >= -20):\n",
    "    if(i < 0):\n",
    "        test = \" != \"\n",
    "        test = str(i//2) + test + str(int(i/2))\n",
    "    else:\n",
    "        test = \" == \"\n",
    "        test = str(i//2) + test + str(int(i/2))\n",
    "    print(test)\n",
    "    i -= 5"
   ]
  },
  {
   "cell_type": "code",
   "execution_count": 15,
   "id": "3d0a0be4",
   "metadata": {},
   "outputs": [
    {
     "name": "stdout",
     "output_type": "stream",
     "text": [
      "23\n",
      "46\n",
      "52\n",
      "75\n",
      "98\n",
      "121\n",
      "144\n",
      "167\n",
      "190\n",
      "213\n"
     ]
    }
   ],
   "source": [
    "x = 0\n",
    "y = 0\n",
    "sum = 0\n",
    "while (x < 10):\n",
    "    y = x - 3\n",
    "    y = 40\n",
    "    while (y > 22):\n",
    "        if ((sum > 30) and (sum < 40)):\n",
    "            sum = sum + x * 2\n",
    "        elif((sum > 40) and (sum < 50)):\n",
    "            sum = sum + x * 3\n",
    "        else:\n",
    "            sum = sum + 23\n",
    "        print(sum)\n",
    "        y = y - 10\n",
    "    x += 2"
   ]
  },
  {
   "cell_type": "code",
   "execution_count": 16,
   "id": "7fb17e23",
   "metadata": {},
   "outputs": [
    {
     "name": "stdout",
     "output_type": "stream",
     "text": [
      "6\n",
      "4\n",
      "2\n",
      "0\n",
      "-2\n",
      "-4\n",
      "3\n",
      "1\n",
      "-1\n",
      "-2\n"
     ]
    }
   ],
   "source": [
    "x = 0\n",
    "y = 0\n",
    "sum = 0\n",
    "while (x < 10):\n",
    "    y = x - 3\n",
    "    while (y < 3):\n",
    "        sum = x - y * 2\n",
    "        print(sum)\n",
    "        y = y + 1\n",
    "    if (x > 7):\n",
    "        x += 1\n",
    "    else:\n",
    "        x += 3\n",
    "sum = x - y * 2\n",
    "print(sum)"
   ]
  },
  {
   "cell_type": "code",
   "execution_count": 27,
   "id": "305f4487",
   "metadata": {},
   "outputs": [
    {
     "name": "stdout",
     "output_type": "stream",
     "text": [
      ". 1\n",
      "x 2\n",
      "q 2.6666666666666665\n",
      "4\n",
      ". 1\n",
      "x 3\n",
      "q 2.333333333333333\n",
      "9\n",
      ". 1\n",
      "x 4\n",
      "q 3.6666666666666665\n",
      "16\n",
      ". 1\n",
      "x 5\n",
      "q 4.333333333333333\n",
      "25\n",
      ". 3\n",
      "x 6\n",
      "q 8.333333333333334\n",
      "39\n",
      ". 5\n",
      "x 7\n",
      "q 10.666666666666666\n",
      "56\n",
      ". 7\n",
      "x 8\n",
      "q 14.0\n",
      "78\n",
      ". 9\n",
      "x 9\n",
      "q 17.666666666666668\n",
      "104\n",
      ". 11\n",
      "x 10\n",
      "q 20.0\n",
      "134\n",
      "147\n"
     ]
    }
   ],
   "source": [
    "p = 1\n",
    "x = 2\n",
    "q = 0.0\n",
    "sum = 0\n",
    "while (p < 12):\n",
    "    print(\".\",p)\n",
    "    print('x',x)\n",
    "    q = x + p - (sum + 1) / 3.0 % 2\n",
    "    print('q',q)\n",
    "    sum = sum + x + int(q)\n",
    "    x+=1\n",
    "    print(sum)\n",
    "    if (x > 5):\n",
    "        p += int(4 / 2)\n",
    "    else:\n",
    "        p += 3 % 1\n",
    "sum = sum + p\n",
    "print(sum)"
   ]
  },
  {
   "cell_type": "code",
   "execution_count": 32,
   "id": "260aef57",
   "metadata": {},
   "outputs": [
    {
     "name": "stdout",
     "output_type": "stream",
     "text": [
      "i 5\n",
      "k 14\n",
      "j 14\n",
      "<--53-->4\n",
      "j 13\n",
      "-->1-->13\n",
      "j 12\n",
      "<--53-->4\n",
      "j 11\n",
      "-->1-->11\n",
      "-----------\n",
      "i 6\n",
      "k 13\n",
      "j 13\n",
      "-->2-->13\n",
      "j 12\n",
      "<--63-->4\n",
      "j 11\n",
      "-->2-->11\n",
      "-----------\n",
      "i 7\n",
      "k 12\n",
      "j 12\n",
      "<--73-->4\n",
      "j 11\n",
      "-->2-->11\n",
      "-----------\n",
      "i 8\n",
      "k 11\n",
      "j 11\n",
      "-->2-->11\n",
      "-----------\n",
      "i 9\n",
      "k 10\n",
      "-----------\n"
     ]
    }
   ],
   "source": [
    "test = \"\"\n",
    "i = 5\n",
    "j = 0\n",
    "k = 15\n",
    "while (i< 10):\n",
    "    print('i',i)\n",
    "    k-=1\n",
    "    j = k\n",
    "    print('k',k)\n",
    "    while (j > 10 ):\n",
    "        print('j',j)\n",
    "        if j % 2 == 0:\n",
    "            test = \"<--\"\n",
    "            test = test + str(i) + '3' + \"-->\" + str(j // 3)\n",
    "        else:\n",
    "            test = \"-->\"\n",
    "            test = \"-->\" + str((i // 3)) + test + str(j)\n",
    "        print(test)\n",
    "        j -=1\n",
    "    print('-----------')\n",
    "    i+=1"
   ]
  },
  {
   "cell_type": "code",
   "execution_count": 35,
   "id": "d2ceccb6",
   "metadata": {},
   "outputs": [
    {
     "name": "stdout",
     "output_type": "stream",
     "text": [
      "i 2\n",
      "k 16\n",
      "j 16\n",
      "-->dog<--28\n",
      "j 15\n",
      "-->dog<--28-->115\n",
      "j 14\n",
      "-->dog<--28-->115<--27\n",
      "j 13\n",
      "-->dog<--28-->115<--27-->113\n",
      "-----------\n",
      "i 3\n",
      "k 15\n",
      "j 15\n",
      "-->dog<--28-->115<--27-->113-->115\n",
      "j 14\n",
      "-->dog<--28-->115<--27-->113-->115<--37\n",
      "j 13\n",
      "-->dog<--28-->115<--27-->113-->115<--37-->113\n",
      "-----------\n",
      "i 4\n",
      "k 14\n",
      "j 14\n",
      "-->dog<--28-->115<--27-->113-->115<--37-->113<--47\n",
      "j 13\n",
      "-->dog<--28-->115<--27-->113-->115<--37-->113<--47-->213\n",
      "-----------\n",
      "i 5\n",
      "k 13\n",
      "j 13\n",
      "-->dog<--28-->115<--27-->113-->115<--37-->113<--47-->213-->213\n",
      "-----------\n",
      "i 6\n",
      "k 12\n",
      "-----------\n"
     ]
    }
   ],
   "source": [
    "i = 2\n",
    "j = 0\n",
    "k = 17\n",
    "test = \"-->dog\"\n",
    "while i < 7:\n",
    "    k-=1\n",
    "    j = k\n",
    "    print('i',i)\n",
    "    print('k',k)\n",
    "    while j > 12:\n",
    "        print('j',j)\n",
    "        if (j % 2 == 0):\n",
    "            test += \"<--\"\n",
    "            test = test + str(i) + str(j // 2)\n",
    "        else:\n",
    "            test += \"-->\"\n",
    "            test = test + str(i // 2) + str(j)\n",
    "        print(test)\n",
    "        j-=1\n",
    "    print('-----------')\n",
    "    i+=1"
   ]
  },
  {
   "cell_type": "code",
   "execution_count": null,
   "id": "36b4dfc5",
   "metadata": {},
   "outputs": [],
   "source": []
  }
 ],
 "metadata": {
  "kernelspec": {
   "display_name": "Python 3 (ipykernel)",
   "language": "python",
   "name": "python3"
  },
  "language_info": {
   "codemirror_mode": {
    "name": "ipython",
    "version": 3
   },
   "file_extension": ".py",
   "mimetype": "text/x-python",
   "name": "python",
   "nbconvert_exporter": "python",
   "pygments_lexer": "ipython3",
   "version": "3.9.7"
  }
 },
 "nbformat": 4,
 "nbformat_minor": 5
}
