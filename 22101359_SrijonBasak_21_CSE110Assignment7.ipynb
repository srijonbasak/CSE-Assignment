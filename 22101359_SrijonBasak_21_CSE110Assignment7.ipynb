{
 "cells": [
  {
   "cell_type": "markdown",
   "metadata": {
    "id": "BBK8uqvGL0VG"
   },
   "source": [
    "# Task 1\n",
    "Suppose you have a list named my_list as given below.\n",
    "my_list = [10, 1, 20, 3, 6, 2, 5, 11, 15, 2, 12, 14, 17, 18, 29]\n",
    "### Now use bubble sort to sort my_list into ascending order.\n",
    "===============================================================\n",
    "Output:\n",
    "[1, 2, 2, 3, 5, 6, 10, 11, 12, 14, 15, 17, 18, 20, 29]"
   ]
  },
  {
   "cell_type": "code",
   "execution_count": 14,
   "metadata": {
    "id": "dsHz54FxL9Mw"
   },
   "outputs": [
    {
     "name": "stdout",
     "output_type": "stream",
     "text": [
      "[1, 2, 2, 3, 5, 6, 10, 11, 12, 14, 15, 17, 18, 20, 29]\n"
     ]
    }
   ],
   "source": [
    "my_list = [10, 1, 20, 3, 6, 2, 5, 11, 15, 2, 12, 14, 17, 18, 29]\n",
    "for x in range(len(my_list)):\n",
    "    for y in range(0,len(my_list)-1-x):\n",
    "        if my_list[y]>my_list[y+1]:\n",
    "            my_list[y+1],my_list[y] =my_list[y],my_list[y+1]\n",
    "print(my_list)"
   ]
  },
  {
   "cell_type": "markdown",
   "metadata": {
    "id": "ADcWBZhkLvJl"
   },
   "source": [
    "## Task 2\n",
    "Suppose you have a list named my_list as given below\n",
    "my_list= [10, 1, 20, 3, 6, 2, 5, 11, 15, 2, 12, 14, 17, 18, 29]\n",
    "### Now use selection sort to sort my_list into ascending order.\n",
    "===============================================================\n",
    "\n",
    "Output: [1, 2, 2, 3, 5, 6, 10, 11, 12, 14, 15, 17, 18, 20, 29]"
   ]
  },
  {
   "cell_type": "code",
   "execution_count": 21,
   "metadata": {
    "id": "GCzLhwdnMgrc"
   },
   "outputs": [
    {
     "name": "stdout",
     "output_type": "stream",
     "text": [
      "[1, 2, 2, 3, 5, 6, 10, 11, 12, 14, 15, 17, 18, 20, 29]\n"
     ]
    }
   ],
   "source": [
    "my_list= [10, 1, 20, 3, 6, 2, 5, 11, 15, 2, 12, 14, 17, 18, 29]\n",
    "for x in range(len(my_list)-1):\n",
    "    min_index = x\n",
    "    for y in range(x+1,len(my_list)):\n",
    "        if my_list[min_index] > my_list[y]:\n",
    "            min_index = y\n",
    "    my_list[min_index],my_list[x] = my_list[x], my_list[min_index]\n",
    "print(my_list)\n",
    "            "
   ]
  },
  {
   "cell_type": "markdown",
   "metadata": {
    "id": "_A39I-07Mg7o"
   },
   "source": [
    "# **Task 3**\n",
    "Suppose you have a list named my_list as given below.\n",
    "my_list = [10, 1, 20, 3, 6, 2, 5, 11, 15, 2, 12, 14, 17, 18, 29]\n",
    "\n",
    "### Now use any of the two sorting techniques you have used above to sort the list in descending order.\n",
    "===============================================================\n",
    "\n",
    "Output:\n",
    "[29, 20, 18, 17, 15, 14, 12, 11, 10, 6, 5, 3, 2, 2, 1]"
   ]
  },
  {
   "cell_type": "code",
   "execution_count": 23,
   "metadata": {
    "id": "VqLfZG8pMzHa"
   },
   "outputs": [
    {
     "name": "stdout",
     "output_type": "stream",
     "text": [
      "[29, 20, 18, 17, 15, 14, 12, 11, 10, 6, 5, 3, 2, 2, 1]\n"
     ]
    }
   ],
   "source": [
    "my_list = [10, 1, 20, 3, 6, 2, 5, 11, 15, 2, 12, 14, 17, 18, 29]\n",
    "for x in range(len(my_list)-1):\n",
    "    max_index = x\n",
    "    for y in range(x+1,len(my_list)):\n",
    "        if my_list[max_index] < my_list[y]:\n",
    "            max_index = y\n",
    "    my_list[x],my_list[max_index] = my_list[max_index],my_list[x]\n",
    "print(my_list)"
   ]
  },
  {
   "cell_type": "markdown",
   "metadata": {
    "id": "k_8pl3tBMzXG"
   },
   "source": [
    "# **Task 4**\n",
    "\n",
    "Suppose you have a sitting arrangement of the students who will give the final exam in a\n",
    "list. The list contains the last two digits of their student ID as given below.\n",
    "\n",
    "sitting_list = [10,30,20,70,11,15,22,16,58,100,12,56,70,80]\n",
    "\n",
    "Now you want to organize the sitting arrangement of the students in your own way. You\n",
    "decide to sort all the students in the even indices of the list in ascending order and all\n",
    "the students in the odd indices of the list in descending order.\n",
    "### So, write a python program that organizes the list for you in this way.\n",
    "===============================================================\n",
    "\n",
    "Output:\n",
    "[10, 100, 11, 80, 12, 70, 20, 56, 22, 30, 58, 16, 70, 15]"
   ]
  },
  {
   "cell_type": "code",
   "execution_count": 17,
   "metadata": {
    "id": "EPb8pErWMzox"
   },
   "outputs": [
    {
     "name": "stdout",
     "output_type": "stream",
     "text": [
      "[10, 100, 11, 80, 12, 70, 20, 56, 22, 30, 58, 16, 70, 15]\n"
     ]
    }
   ],
   "source": [
    "my_list= [10,30,20,70,11,15,22,16,58,100,12,56,70,80]\n",
    "for x in range(len(my_list)):\n",
    "    for y in range(0,len(my_list)-2-x,2):\n",
    "        if my_list[y]>my_list[y+2]:\n",
    "            my_list[y+2],my_list[y] =my_list[y],my_list[y+2]\n",
    "for x in range(len(my_list)):\n",
    "    for y in range(1,len(my_list)-2-x,2):\n",
    "        if my_list[y]<my_list[y+2]:\n",
    "            my_list[y+2],my_list[y] =my_list[y],my_list[y+2]\n",
    "print(my_list)"
   ]
  },
  {
   "cell_type": "markdown",
   "metadata": {
    "id": "lFtUAU1mMz1x"
   },
   "source": [
    "# **Task 5**\n",
    "Suppose a list contains marks earned in the courses CSE110, PHY111, and MAT110 of\n",
    "each student consecutively in a nested list form. Your task is to take a course name as\n",
    "input from the user and sort the list based on the marks obtained in that course to\n",
    "finally print the names of the students in descending order of marks obtained i.e. from\n",
    "the student who earned the highest marks to the student who earned the lowest.\n",
    "For example, the list may look like\n",
    "\n",
    "lst = [ [\"Alan\", 95, 87, 91], [\"Turing\", 92, 90, 83], [\"Elon\", 87, 92, 80], [\"Musk\", 85, 94, 90] ]\n",
    "\n",
    "where for each nested list, 1st index holds the name of the student, 2nd index is total\n",
    "\n",
    "marks earned in the CSE110 course, 3rd index is PHY111 marks and 4th index is\n",
    "MAT110 marks.\n",
    "\n",
    "===============================================================\n",
    "\n",
    "**Hint:**\n",
    "You may create a function for sorting, then call it whenever needed instead of rewriting\n",
    "the code.\n",
    "### You may get the data in the individual lists from the given nested list.\n",
    "\n",
    "===============================================================\n",
    "\n",
    "Sample Input 1\n",
    "\n",
    "MAT110\n",
    "\n",
    "Sample Output 1\n",
    "\n",
    "Alan\n",
    "\n",
    "Musk\n",
    "\n",
    "Turing\n",
    "\n",
    "Elon\n",
    "\n",
    "Explanation:\n",
    "\n",
    "Here the user gives us \"MAT110\" as the course name. Now, the students Alan, Turing,\n",
    "Elon, and Musk earned 91, 83, 80, and 90 marks respectively in this course. If we sort it,\n",
    "Alan got the highest marks of 91 followed by Musk with 90 marks and Turing with 83\n",
    "marks. Among these 4 students, Elon obtained the lowest marks in the MAT110 course\n",
    "### with 80 marks. All of these have been illustrated in our sample output.\n",
    "===============================================================\n",
    "Sample Input 2\n",
    "\n",
    "PHY111\n",
    "\n",
    "Sample Output 2\n",
    "\n",
    "Musk\n",
    "\n",
    "Elon\n",
    "\n",
    "Turing\n",
    "\n",
    "Alan"
   ]
  },
  {
   "cell_type": "code",
   "execution_count": 4,
   "metadata": {
    "id": "JujoPNemM0CX"
   },
   "outputs": [
    {
     "name": "stdout",
     "output_type": "stream",
     "text": [
      "phy111\n",
      "Musk\n",
      "Elon\n",
      "Turing\n",
      "Alan\n"
     ]
    }
   ],
   "source": [
    "lst = [ [\"Alan\", 95, 87, 91], [\"Turing\", 92, 90, 83], [\"Elon\", 87, 92, 80], [\"Musk\", 85, 94, 90] ]\n",
    "key = input().lower()\n",
    "new_list = []\n",
    "\n",
    "if key == 'cse110':\n",
    "    key = 1\n",
    "elif key == 'phy111':\n",
    "    key = 2\n",
    "elif key == 'mat110':\n",
    "    key = 3\n",
    "    \n",
    "for x in lst:\n",
    "    new_list.append(x[key])\n",
    "    \n",
    "my_list = new_list\n",
    "\n",
    "for x in range(len(my_list)):\n",
    "    for y in range(0,len(my_list)-1-x):\n",
    "        if my_list[y]<my_list[y+1]:\n",
    "            my_list[y+1],my_list[y] =my_list[y],my_list[y+1]\n",
    "\n",
    "for mark in my_list:\n",
    "    for name in lst:\n",
    "        if mark == name[key]:\n",
    "            print(name[0])"
   ]
  },
  {
   "cell_type": "markdown",
   "metadata": {
    "id": "2-hbhX11M0Ny"
   },
   "source": [
    "# Task 6\n",
    "\n",
    "Suppose you have a list named my_list as given below. Your task is to sort the list in\n",
    "ascending order and print the count of numbers that have changed their positions in the\n",
    "process of sorting.\n",
    "\n",
    "my_list = [4, 2, 3, 1, 6, 5]\n",
    "\n",
    "The sorted list would be [1, 2, 3, 4, 5, 6] where 4 numbers (4, 1, 6, and 5) have changed their positions. Therefore our sample output here would be 4. Please check if your code is working correctly by changing the above list and using the knowledge given here to verify whether your code gives the correct output for all different lists.\n",
    "Sample Output for the above list\n",
    "4"
   ]
  },
  {
   "cell_type": "code",
   "execution_count": 7,
   "metadata": {
    "id": "s9IF4zBAM0Zc"
   },
   "outputs": [
    {
     "name": "stdout",
     "output_type": "stream",
     "text": [
      "4\n"
     ]
    }
   ],
   "source": [
    "my_list = [4, 2, 3, 1, 6, 5]\n",
    "result = []\n",
    "copy_list = my_list.copy()\n",
    "for x in range(len(my_list)):\n",
    "    for y in range(0,len(my_list)-1-x):\n",
    "        if my_list[y]>my_list[y+1]:\n",
    "            my_list[y+1],my_list[y] =my_list[y],my_list[y+1]\n",
    "for x in range(len(my_list)):\n",
    "    if copy_list[x] != my_list[x]:\n",
    "        result.append(copy_list[x])\n",
    "print(len(result))"
   ]
  },
  {
   "cell_type": "markdown",
   "metadata": {
    "id": "3KFh9OY0M0kl"
   },
   "source": [
    "# **Task 7**\n",
    "\n",
    "### Write a python program that takes two lists from the user, merges the two lists, sorts the resulting list, and then finds the median of the elements in the two lists.\n",
    "=====================================================\n",
    "\n",
    "Sample Input 1\n",
    "\n",
    "list_one = [1, 2, 1, 4]\n",
    "\n",
    "list_two = [5, 4, 1]\n",
    "\n",
    "Sample Output 1\n",
    "\n",
    "Sorted list = [1, 1, 1, 2, 4, 4, 5]\n",
    "\n",
    "Median = 2\n",
    "\n",
    "=====================================================\n",
    "\n",
    "Sample Input 2\n",
    "\n",
    "list_one = [1, 7, 9, 10]\n",
    "\n",
    "list_two = [2, 7, 6, 5]\n",
    "\n",
    "Sample Output 2\n",
    "\n",
    "Sorted list = [1, 2, 5, 6, 7, 7, 9, 10]\n",
    "\n",
    "Median = 6.5"
   ]
  },
  {
   "cell_type": "code",
   "execution_count": 22,
   "metadata": {
    "id": "Cbmeq6EnOnec"
   },
   "outputs": [
    {
     "name": "stdout",
     "output_type": "stream",
     "text": [
      "[1, 7, 9, 10]\n",
      "[2, 7, 6, 5]\n",
      "Sorted list = [1, 2, 5, 6, 7, 7, 9, 10]\n",
      "Median = 6.5\n"
     ]
    }
   ],
   "source": [
    "def str_2_list(list_one):\n",
    "    temp = []\n",
    "    for x in list_one[1:-1].split(', '):\n",
    "        temp.append(int(x))\n",
    "    return temp\n",
    "list_one = input()\n",
    "list_two = input()\n",
    "my_list = str_2_list(list_one) + str_2_list(list_two)\n",
    "\n",
    "\n",
    "for x in range(len(my_list)):\n",
    "    for y in range(0,len(my_list)-1-x):\n",
    "        if my_list[y]>my_list[y+1]:\n",
    "            my_list[y+1],my_list[y] =my_list[y],my_list[y+1]\n",
    "\n",
    "key = (len(my_list)-1)//2\n",
    "if len(my_list)%2 ==0:\n",
    "    median = (my_list[key] + my_list[key+1])/2\n",
    "else:\n",
    "    median = my_list[key]\n",
    "\n",
    "print('Sorted list =',my_list)\n",
    "print('Median =',median)"
   ]
  },
  {
   "cell_type": "markdown",
   "metadata": {
    "id": "XAE2a3oBOnrc"
   },
   "source": [
    "# **Task 8**\n",
    "\n",
    "Write a python program that takes a list from a user containing both positive and negative numbers. The program then finds two pairs of values whose summation is closest to zero.\n",
    "\n",
    "=====================================================\n",
    "\n",
    "Sample Input 1\n",
    "\n",
    "list_one = [-10, 15, 2, 4, -4, 7, -8]\n",
    "\n",
    "Sample Output 1\n",
    "\n",
    "Two pairs which have the smallest sum = 4 and -4\n",
    "\n",
    "=====================================================\n",
    "\n",
    "Sample Input 2\n",
    "\n",
    "list_one = [1, -8, 4, -7, -20, 26, 70, -85]\n",
    "\n",
    "Sample Output 2\n",
    "\n",
    "\n",
    "Two pairs which have the smallest sum = 4 and -7"
   ]
  },
  {
   "cell_type": "code",
   "execution_count": 19,
   "metadata": {
    "id": "qU_ebCtMO1Rz"
   },
   "outputs": [
    {
     "name": "stdout",
     "output_type": "stream",
     "text": [
      "[1, -8, 4, -7, -20, 26, 70, -85]\n",
      "Two pairs which have the smallest sum = 4 and -7\n"
     ]
    }
   ],
   "source": [
    "#string to list\n",
    "list_one = input()[1:-1].split(', ')\n",
    "temp = []\n",
    "for x in list_one:\n",
    "    temp.append(int(x))\n",
    "list_one = temp\n",
    "\n",
    "#checking numbers\n",
    "sum_dict = {}\n",
    "sum_list = []\n",
    "for x in range(len(list_one)):\n",
    "    if list_one[x] > 0:\n",
    "        for y in range(x+1,len(list_one)):\n",
    "            if list_one[y]<0:\n",
    "                sum1 = abs(list_one[x] + list_one[y])\n",
    "                sum_list.append(sum1)\n",
    "                sum_dict[sum1] = (list_one[x] , list_one[y])\n",
    "\n",
    "#sort function\n",
    "def selection_sort(my_list):\n",
    "    for x in range(len(my_list)-1):\n",
    "        min_index = x\n",
    "        for y in range(x+1,len(my_list)):\n",
    "            if my_list[min_index] > my_list[y]:\n",
    "                min_index = y\n",
    "        my_list[min_index],my_list[x] = my_list[x], my_list[min_index]\n",
    "    return my_list\n",
    "\n",
    "selection_sort(sum_list)\n",
    "pair = sum_dict[sum_list[0]]\n",
    "print(f'Two pairs which have the smallest sum = {pair[0]} and {pair[1]}')"
   ]
  },
  {
   "cell_type": "markdown",
   "metadata": {
    "id": "8BgiH9aIO1zj"
   },
   "source": [
    "You will be given a list of tuples where each tuple indicates a point i.e. (x, y) in a 2-dimensional coordinate system.\n",
    "You need to write a python program to find the minimum distance and the point that is closest to the origin i.e. (0,0)\n",
    "\n",
    "=====================================================\n",
    "\n",
    "**Hint:**\n",
    "The formula of distance = √((Δx)2+(Δy)2\n",
    ")\n",
    "\n",
    "As you are calculating the distance from the origin (0,0), you can simply use\n",
    "distance = √(x2+y2\n",
    ")\n",
    "\n",
    "You can create a list of distances from each point and sort that list using your personal favorite sorting algorithm.\n",
    "\n",
    "=====================================================\n",
    "\n",
    "Sample Input 1\n",
    "\n",
    "points = [(5,3), (2,9), (-2,7), (-3,-4), (0,6), (7,-2)]\n",
    "\n",
    "Sample Output 1\n",
    "\n",
    "Minimum distance = 5.0\n",
    "\n",
    "Here the closest point is (-3,-4) which has a distance of 5.0 from the origin.\n",
    "\n",
    "=====================================================\n",
    "\n",
    "Sample Input 1\n",
    "\n",
    "points = [(1,7), (4,5), (-1,7), (-2,0), (1,1), (5,-1)]\n",
    "\n",
    "Sample Output 1\n",
    "\n",
    "Minimum distance = 1.4142135623730951\n",
    "\n",
    "Here the closest point is (1,1) which has a distance of 1.4142135623730951 from the origin."
   ]
  },
  {
   "cell_type": "code",
   "execution_count": 27,
   "metadata": {
    "id": "J_Q92annPX_a"
   },
   "outputs": [
    {
     "name": "stdout",
     "output_type": "stream",
     "text": [
      "Minimum distance = 1.4142135623730951\n",
      "Here the closest point is (1, 1) which has a distance of 1.4142135623730951 from the origin.\n"
     ]
    }
   ],
   "source": [
    "import math\n",
    "points = [(1,7), (4,5), (-1,7), (-2,0), (1,1), (5,-1)]\n",
    "my_list = []\n",
    "distance = {}\n",
    "for point in points:\n",
    "    x,y = point\n",
    "    z = math.sqrt((x**2)+(y*y))\n",
    "    my_list.append(z)\n",
    "    distance[z] = point\n",
    "for x in range(len(my_list)-1):\n",
    "    min_index = x\n",
    "    for y in range(x+1,len(my_list)):\n",
    "        if my_list[min_index] > my_list[y]:\n",
    "            min_index = y\n",
    "    my_list[min_index],my_list[x] = my_list[x], my_list[min_index]\n",
    "min_distance = my_list[0]\n",
    "print(\"Minimum distance =\",min_distance)\n",
    "\n",
    "print(f\"Here the closest point is {distance[min_distance]} which has a distance of {min_distance} from the origin.\")\n"
   ]
  },
  {
   "cell_type": "code",
   "execution_count": null,
   "metadata": {},
   "outputs": [],
   "source": []
  }
 ],
 "metadata": {
  "colab": {
   "name": "assignment7.ipynb",
   "provenance": []
  },
  "kernelspec": {
   "display_name": "Python 3 (ipykernel)",
   "language": "python",
   "name": "python3"
  },
  "language_info": {
   "codemirror_mode": {
    "name": "ipython",
    "version": 3
   },
   "file_extension": ".py",
   "mimetype": "text/x-python",
   "name": "python",
   "nbconvert_exporter": "python",
   "pygments_lexer": "ipython3",
   "version": "3.9.7"
  }
 },
 "nbformat": 4,
 "nbformat_minor": 1
}
