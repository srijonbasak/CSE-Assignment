{
 "cells": [
  {
   "cell_type": "markdown",
   "metadata": {
    "id": "M_TW9JDFjg0h"
   },
   "source": [
    "# PRACTICE PROBLEMS ON FUNCTION\n",
    "\n",
    "\n",
    "**<font color='red'>[MUST MAINTAIN VARIABLE NAMING CONVENTIONS FOR ALL THE TASKS]</font>**\n",
    "**<font color='red'>[Solve all the tasks sequentially]</font>**\n"
   ]
  },
  {
   "cell_type": "markdown",
   "metadata": {
    "id": "_DFAXq-2jg0l"
   },
   "source": [
    "### Task 1\n",
    "Write a function called **check_awesomeness** that takes a number as an argument and Checks whether the number is Awesome or not. If the number is Awesome, it returns True. Otherwise False.\n",
    " \n",
    "**Awesome number:** a number where every digit is less than its immediate left digit is called an Awesome number. A single digit number cannot be a awesome number(e.g. 5421 is an Awesome number).\n",
    "\n",
    "==========================================================\n",
    "\n",
    "**Function Call1:**\\\n",
    "check_awesomeness(976321)\\\n",
    "**Output1:**\\\n",
    "True\n",
    "\n",
    "==========================================================\n",
    "\n",
    "**Function Call2:**\\\n",
    "check_awesomeness(9766321)\\\n",
    "**Output2:**\\\n",
    "False\n",
    "\n",
    "==========================================================\n",
    "\n",
    "**Function Call3:**\\\n",
    "check_awesomeness(9)\\\n",
    "**Output3:**\\\n",
    "False\n",
    "\n",
    "==========================================================\n",
    "\n",
    "**Function Call4:**\\\n",
    "check_awesomeness(78)\\\n",
    "**Output4:**\\\n",
    "False\n",
    "\n",
    "==========================================================\n",
    "\n",
    "**Function Call5:**\\\n",
    "check_awesomeness(87)\\\n",
    "**Output4:**\\\n",
    "True"
   ]
  },
  {
   "cell_type": "code",
   "execution_count": 9,
   "metadata": {
    "id": "E0Mo_i-tjg0l"
   },
   "outputs": [
    {
     "data": {
      "text/plain": [
       "False"
      ]
     },
     "execution_count": 9,
     "metadata": {},
     "output_type": "execute_result"
    }
   ],
   "source": [
    "def check_awesomeness(num):\n",
    "    num = str(num)\n",
    "    for x in range(len(num)-1):\n",
    "        if int(num[x]) - int(num[x+1]) != 1:\n",
    "            return False\n",
    "    return True\n",
    "check_awesomeness(9766321)"
   ]
  },
  {
   "cell_type": "markdown",
   "metadata": {
    "id": "th3LnYk5jg0n"
   },
   "source": [
    "### Task 2\n",
    "Write a function called **check_awesome** that takes a list of numbers(integer) as an argument and Prints whether the number is Awesome or not.\n",
    "\n",
    "**<font color='red'>Must reuse the check_awesomeness() function.</font>**\n",
    "\n",
    "==========================================================\n",
    "\n",
    "**Function Call1:**\\\n",
    "check_awesome([976321, 321, 9763221, 9742, 876, 3211])\\\n",
    "**Output1:**\\\n",
    "976321 is an awesome number.\\\n",
    "321 is a awesome number.\\\n",
    "9763221 is a not-so-awesome number.\\\n",
    "9742 is an awesome number.\\\n",
    "876 is an awesome number.\\\n",
    "3211 is a not-so-awesome number.\n",
    "\n",
    "==========================================================\n",
    "\n",
    "**Function Call2:**\\\n",
    "check_awesome([97821, 97210, 979210])\\\n",
    "**Output2:**\\\n",
    "97821 is a not-so-awesome number.\\\n",
    "97210 is an awesome number.\\\n",
    "979210 is a not-so-awesome number."
   ]
  },
  {
   "cell_type": "code",
   "execution_count": 15,
   "metadata": {
    "id": "zJIFLzs4jg0o"
   },
   "outputs": [
    {
     "name": "stdout",
     "output_type": "stream",
     "text": [
      "976321 is an awesome number.\n",
      "321 is an awesome number.\n",
      "9763221 is a not-so-awesome number.\n",
      "9742 is an awesome number.\n",
      "876 is an awesome number.\n",
      "3211 is a not-so-awesome number.\n"
     ]
    }
   ],
   "source": [
    "def check_awesomeness(num):\n",
    "    num = str(num)\n",
    "    for x in range(len(num)-1):\n",
    "        if int(num[x]) <= int(num[x+1]):\n",
    "            return False\n",
    "    return True\n",
    "def check_awesome(num_list):\n",
    "    for num in num_list:\n",
    "        if check_awesomeness(num):\n",
    "            print(f'{num} is an awesome number.')\n",
    "        else:\n",
    "            print(f'{num} is a not-so-awesome number.')\n",
    "check_awesome([976321, 321, 9763221, 9742, 876, 3211])"
   ]
  },
  {
   "cell_type": "markdown",
   "metadata": {
    "id": "A07MGnIqjg0p"
   },
   "source": [
    "### Task 3\n",
    "Write a function called **find_max_min** that takes a list of numbers(integers) as a  function parameter and finds the numbers with maximum and minimum value. Then returns these two numbers as a **tuple** and prints the results using tuple unpacking in the function call accorrding to the given format. Both valid and invalid numbers should be considered for finding maximum and minimum.<font color='red'>[Must use tuple packing & unpacking] </font> \n",
    "\n",
    "==========================================================\n",
    "\n",
    "**Function Call1:**\\\n",
    "find_max_min([976321, 321, 9763221, 9742, 876, 3211, 976321, 9742])\\\n",
    "**Output1:**\\\n",
    "Returned value from find_max_min() is: (9763221, 321)\\\n",
    "Number with maximum value is 9763221\\\n",
    "Number with minimum value is 321\n",
    "\n",
    "==========================================================\n",
    "\n",
    "**Function Call2:**\\\n",
    "find_max_min([97821, 1, 97210, 963, 979210, 979210])\\\n",
    "**Output2:**\\\n",
    "Returned value from find_max_min() is: (979210, 1)\\\n",
    "Number with maximum value is 979210\\\n",
    "Number with minimum value is 1"
   ]
  },
  {
   "cell_type": "code",
   "execution_count": 20,
   "metadata": {
    "id": "d8rp2vbujg0q"
   },
   "outputs": [
    {
     "name": "stdout",
     "output_type": "stream",
     "text": [
      "979210 1\n"
     ]
    }
   ],
   "source": [
    "def find_max_min(numbers):\n",
    "    my_list = numbers.copy()\n",
    "    for x in range(len(my_list)-1):\n",
    "        min_index = x\n",
    "        for y in range(x+1,len(my_list)):\n",
    "            if my_list[min_index] > my_list[y]:\n",
    "                min_index = y\n",
    "        my_list[min_index] ,my_list[x] = my_list[x], my_list[min_index]\n",
    "    max_min = my_list[-1],my_list[0]\n",
    "    return max_min\n",
    "maX, miN = find_max_min([97821, 1, 97210, 963, 979210, 979210])\n",
    "print(maX,miN)"
   ]
  },
  {
   "cell_type": "markdown",
   "metadata": {
    "id": "G0HdzR9hjg0r"
   },
   "source": [
    "### Task 4\n",
    "Write a function called **data_cleaning** that takes a string as an argument. Then gets the numbers from the given string and removes all extra spaces. Stores the clean numbers (integers) in a list and **returns** it to the function call.\n",
    "\n",
    "==========================================================\n",
    "\n",
    "**Function Call1:**\\\n",
    "data_cleaning(\"97821, 1 &nbsp;&nbsp;&nbsp;  , 97210,&nbsp;&nbsp; 963, &nbsp;&nbsp;&nbsp;979210 , 979210   \")\\\n",
    "**Output1:**\\\n",
    "Data after cleaning: [97821, 1, 97210, 963, 979210, 979210]\n",
    "\n",
    "==========================================================\n",
    "\n",
    "**Function Call2:**\\\n",
    "data_cleaning(\"976321, 321&nbsp;&nbsp;,&nbsp;&nbsp;&nbsp;9763221, &nbsp;&nbsp;&nbsp;9742, 876,&nbsp;&nbsp;&nbsp;&nbsp;&nbsp;&nbsp;&nbsp; 3211\")\\\n",
    "**Output2:**\\\n",
    "Data after cleaning: [976321, 321, 9763221, 9742, 876, 3211]\n",
    "\n",
    "==========================================================\n",
    "\n",
    "**Function Call3:**\\\n",
    "data_cleaning(\"976321, 321 ,&nbsp;&nbsp;&nbsp; 9763221, 9742, &nbsp;&nbsp;&nbsp;&nbsp;&nbsp;876, &nbsp;&nbsp;&nbsp;&nbsp;&nbsp;&nbsp;3211, 976321&nbsp;&nbsp;&nbsp;&nbsp;, 9742\")\\\n",
    "**Output3:**\\\n",
    "Data after cleaning: [976321, 321, 9763221, 9742, 876, 3211, 976321, 9742]"
   ]
  },
  {
   "cell_type": "code",
   "execution_count": 27,
   "metadata": {
    "id": "uZvyPiT9jg0r"
   },
   "outputs": [
    {
     "data": {
      "text/plain": [
       "[976321, 321, 9763221, 9742, 876, 3211, 976321, 9742]"
      ]
     },
     "execution_count": 27,
     "metadata": {},
     "output_type": "execute_result"
    }
   ],
   "source": [
    "#todo\n",
    "def data_cleaning(nums):\n",
    "    result = []\n",
    "    for x in nums.split(','):\n",
    "        result.append(int(x.strip()))\n",
    "    return result\n",
    "data_cleaning(\"976321, 321 ,    9763221, 9742,      876,       3211, 976321    , 9742\")"
   ]
  },
  {
   "cell_type": "markdown",
   "metadata": {
    "id": "9zXjgWDSjg0t"
   },
   "source": [
    "### Task 5\n",
    "Write a function called **grouping_data** that takes  a list of numbers(integers) as a  function parameter and creates a dictionary where \"valid\", \"invalid\", and \"duplicate\" are the keys. The numbers that falls in those categories are the values.\n",
    "\n",
    "**Valid & Invalid numbers:** A number with a minimum length of 4 and a maximum length of 6 is considered to be valid for this assignment. All the other numbers are considered to be Invalid numbers.\\\n",
    "**Duplicate numbers:** If a number appears more than once in the string, then that is a dupliacte number. Both valid and invalid numbers can be duplicates.\n",
    "\n",
    "Lastly, print the dictionary **inside the function** and **return** the dictionary to the function call.\n",
    "\n",
    "==========================================================\n",
    "\n",
    "**Function Call1:**\\\n",
    "grouping_data([97821, 1, 97210, 963, 979210, 979210])\\\n",
    "**Output1:**\\\n",
    "XXXXXXXXXXXXXXXXXXXXXXXXXXXXXXXXXXXXXXXXXXXXXXXXXXXXXXXXXXXXXXXXXXX\\\n",
    "Data dictionary printing inside the function:\\\n",
    "{'valid': [97821, 97210, 979210], 'invalid': [1, 963], 'duplicate': [979210]}\\\n",
    "XXXXXXXXXXXXXXXXXXXXXXXXXXXXXXXXXXXXXXXXXXXXXXXXXXXXXXXXXXXXXXXXXXXX\\\n",
    "Returned dictionary: {'valid': [97821, 97210, 979210], 'invalid': [1, 963], 'duplicate': [979210]}\\\n",
    "Valid number list obtained from the dictionary: [97821, 97210, 979210]\n",
    "\n",
    "\n",
    "==========================================================\n",
    "\n",
    "**Function Call2:**\\\n",
    "grouping_data([976321, 321, 9763221, 9742, 876, 3211])\\\n",
    "**Output2:**\\\n",
    "XXXXXXXXXXXXXXXXXXXXXXXXXXXXXXXXXXXXXXXXXXXXXXXXXXXXXXXXXXXXXXXXXXX\\\n",
    "Data dictionary printing inside the function:\\\n",
    "{'valid': [976321, 9742, 3211], 'invalid': [321, 9763221, 876], 'duplicate': []}\\\n",
    "XXXXXXXXXXXXXXXXXXXXXXXXXXXXXXXXXXXXXXXXXXXXXXXXXXXXXXXXXXXXXXXXXXXX\\\n",
    "Returned dictionary: {'valid': [976321, 9742, 3211], 'invalid': [321, 9763221, 876], 'duplicate': []}\\\n",
    "Valid number list obtained from the dictionary: [976321, 9742, 3211]\n",
    "\n",
    "\n",
    "==========================================================\n",
    "\n",
    "**Function Call3:**\\\n",
    "grouping_data([976321, 321, 9763221, 9742, 876, 3211, 976321, 9742])\\\n",
    "**Output3:**\\\n",
    "XXXXXXXXXXXXXXXXXXXXXXXXXXXXXXXXXXXXXXXXXXXXXXXXXXXXXXXXXXXXXXXXXXX\\\n",
    "Data dictionary printing inside the function:\\\n",
    "{'valid': [976321, 9742, 3211], 'invalid': [321, 9763221, 876], 'duplicate': [976321, 9742]}\\\n",
    "XXXXXXXXXXXXXXXXXXXXXXXXXXXXXXXXXXXXXXXXXXXXXXXXXXXXXXXXXXXXXXXXXXXX\\\n",
    "Returned dictionary: {'valid': [976321, 9742, 3211], 'invalid': [321, 9763221, 876], 'duplicate': [976321, 9742]}\\\n",
    "Valid number list obtained from the dictionary: [976321, 9742, 3211]\n",
    "\n"
   ]
  },
  {
   "cell_type": "code",
   "execution_count": 18,
   "metadata": {
    "id": "vqWYa73fjg0t"
   },
   "outputs": [
    {
     "name": "stdout",
     "output_type": "stream",
     "text": [
      "XXXXXXXXXXXXXXXXXXXXXXXXXXXXXXXXXXXXXXXXXXXXXXXXXXXXXXXXXXXXXXXXXXXXXXXXXXXXXXXXXXXXXXXXXXXXXXXXXXXX\n",
      "Data dictionary printing inside the function:\n",
      "{'valid': [976321, 9742, 3211], 'invalid': [321, 9763221, 876], 'duplicate': [976321, 9742]}\n",
      "XXXXXXXXXXXXXXXXXXXXXXXXXXXXXXXXXXXXXXXXXXXXXXXXXXXXXXXXXXXXXXXXXXXXXXXXXXXXXXXXXXXXXXXXXXXXXXXXXXXX\n",
      "Returned dictionary:  {'valid': [976321, 9742, 3211], 'invalid': [321, 9763221, 876], 'duplicate': [976321, 9742]}\n",
      "Valid number list obtained from the dictionary:  [976321, 9742, 3211]\n"
     ]
    }
   ],
   "source": [
    "#todo\n",
    "def grouping_data(nums):\n",
    "    result = {'valid': [], 'invalid' : [], 'duplicate': []}\n",
    "    for x in nums:\n",
    "        if 4 <= len(str(x)) <= 6:\n",
    "            if x in result[\"valid\"] or x in result[\"invalid\"]:\n",
    "                result[\"duplicate\"].append(x)\n",
    "            else:\n",
    "                result[\"valid\"].append(x)\n",
    "        else:\n",
    "            result[\"invalid\"].append(x)\n",
    "    print('X'*100)\n",
    "    print(\"Data dictionary printing inside the function:\")\n",
    "    print(result)\n",
    "    print('X'*100)\n",
    "    return result\n",
    "result = grouping_data([976321, 321, 9763221, 9742, 876, 3211, 976321, 9742])\n",
    "print('Returned dictionary: ',result)\n",
    "print('Valid number list obtained from the dictionary: ', result['valid'])\n"
   ]
  },
  {
   "cell_type": "markdown",
   "metadata": {
    "id": "6xiDx9zKjg0t"
   },
   "source": [
    "### Task6\n",
    "Write a function called **individual_line_data** that takes a string as an argument. This function should do the following. \n",
    "* clean and prints the data.\n",
    "* group the numbers in a dictionary obtained from the given string.\n",
    "* check whether the **valid numbers** are awesome or not.\n",
    "* find and print the maximum and minimum number among the **valid numbers** obtained from the given string.\n",
    "\n",
    "*Hints:*\\\n",
    "You MUST reuse data_cleaning(), grouping_data(), check_awesome() and find_max_min() functions. \n",
    "\n",
    "==========================================================\n",
    "\n",
    "**Function Call1:**\\\n",
    "individual_line_data(\"97821, 1 &nbsp;&nbsp;&nbsp;  , 97210,&nbsp;&nbsp; 963, &nbsp;&nbsp;&nbsp;979210 , 979210   \")\\\n",
    "**Output1:**\\\n",
    "Data after cleaning: [97821, 1, 97210, 963, 979210, 979210]\\\n",
    "XXXXXXXXXXXXXXXXXXXXXXXXXXXXXXXXXXXXXXXXXXXXXXXXXXXXXXXXXXXXXXXXXXX\\\n",
    "Data dictionary printing inside the function:\\\n",
    "{'valid': [97821, 97210, 979210], 'invalid': [1, 963], 'duplicate': [979210]}\\\n",
    "XXXXXXXXXXXXXXXXXXXXXXXXXXXXXXXXXXXXXXXXXXXXXXXXXXXXXXXXXXXXXXXXXXXX\\\n",
    "Returned dictionary: {'valid': [97821, 97210, 979210], 'invalid': [1, 963], 'duplicate': [979210]}\\\n",
    "Valid number list obtained from the dictionary: [97821, 97210, 979210]\\\n",
    "=================================================\\\n",
    "^_^ Awesomeness checking of the Valid numbers ^_^\\\n",
    "97821 is a not-so-awesome number.\\\n",
    "97210 is an awesome number.\\\n",
    "979210 is a not-so-awesome number.\\\n",
    "=================================================\\\n",
    "Returned value from find_max_min() is: (979210, 97210)\\\n",
    "Valid number with maximum value is 979210\\\n",
    "Valid number with minimum value is 97210\n",
    "\n",
    "\n",
    "\n",
    "\n",
    "**Function Call2:**\\\n",
    "individual_line_data(\"976321, 321&nbsp;&nbsp;,&nbsp;&nbsp;&nbsp;9763221, &nbsp;&nbsp;&nbsp;9742, 876,&nbsp;&nbsp;&nbsp;&nbsp;&nbsp;&nbsp;&nbsp; 3211\")\\\n",
    "**Output2:**\\\n",
    "Data after cleaning: [976321, 321, 9763221, 9742, 876, 3211]\\\n",
    "XXXXXXXXXXXXXXXXXXXXXXXXXXXXXXXXXXXXXXXXXXXXXXXXXXXXXXXXXXXXXXXXXXX\\\n",
    "Data dictionary printing inside the function:\\\n",
    "{'valid': [976321, 9742, 3211], 'invalid': [321, 9763221, 876], 'duplicate': []}\\\n",
    "XXXXXXXXXXXXXXXXXXXXXXXXXXXXXXXXXXXXXXXXXXXXXXXXXXXXXXXXXXXXXXXXXXXX\\\n",
    "Returned dictionary: {'valid': [976321, 9742, 3211], 'invalid': [321, 9763221, 876], 'duplicate': []}\\\n",
    "Valid number list obtained from the dictionary: [976321, 9742, 3211]\\\n",
    "=================================================\\\n",
    "^_^ Awesomeness checking of the Valid numbers ^_^\\\n",
    "976321 is an awesome number.\\\n",
    "9742 is an awesome number.\\\n",
    "3211 is a not-so-awesome number.\\\n",
    "=================================================\\\n",
    "Returned value from find_max_min() is: (976321, 3211)\\\n",
    "Valid number with maximum value is 976321\\\n",
    "Valid number with minimum value is 3211\n",
    "\n",
    "\n",
    "\n",
    "**Function Call3:**\\\n",
    "individual_line_data(\"976321, 321 ,&nbsp;&nbsp;&nbsp; 9763221, 9742, &nbsp;&nbsp;&nbsp;&nbsp;&nbsp;876, &nbsp;&nbsp;&nbsp;&nbsp;&nbsp;&nbsp;3211, 976321&nbsp;&nbsp;&nbsp;&nbsp;, 9742\")\\\n",
    "**Output3:**\\\n",
    "Data after cleaning: [976321, 321, 9763221, 9742, 876, 3211, 976321, 9742]\\\n",
    "XXXXXXXXXXXXXXXXXXXXXXXXXXXXXXXXXXXXXXXXXXXXXXXXXXXXXXXXXXXXXXXXXXX\\\n",
    "Data dictionary printing inside the function:\\\n",
    "{'valid': [976321, 9742, 3211], 'invalid': [321, 9763221, 876], 'duplicate': [976321, 9742]}\\\n",
    "XXXXXXXXXXXXXXXXXXXXXXXXXXXXXXXXXXXXXXXXXXXXXXXXXXXXXXXXXXXXXXXXXXXX\\\n",
    "Returned dictionary: {'valid': [976321, 9742, 3211], 'invalid': [321, 9763221, 876], 'duplicate': [976321, 9742]}\\\n",
    "Valid number list obtained from the dictionary: [976321, 9742, 3211]\\\n",
    "=================================================\\\n",
    "^_^ Awesomeness checking of the Valid numbers ^_^\\\n",
    "976321 is an awesome number.\\\n",
    "9742 is an awesome number.\\\n",
    "3211 is a not-so-awesome number.\\\n",
    "=================================================\\\n",
    "Returned value from find_max_min() is: (976321, 3211)\\\n",
    "Valid number with maximum value is 976321\\\n",
    "Valid number with minimum value is 3211\n"
   ]
  },
  {
   "cell_type": "code",
   "execution_count": 20,
   "metadata": {
    "id": "Ncfi4K_vjg0t"
   },
   "outputs": [
    {
     "name": "stdout",
     "output_type": "stream",
     "text": [
      "Data after cleaning: [976321, 321, 9763221, 9742, 876, 3211, 976321, 9742]\n",
      "XXXXXXXXXXXXXXXXXXXXXXXXXXXXXXXXXXXXXXXXXXXXXXXXXXXXXXXXXXXXXXXXXXXXXXXXXXXXXXXXXXXXXXXXXXXXXXXXXXXX\n",
      "Data dictionary printing inside the function:\n",
      "{'valid': [976321, 9742, 3211], 'invalid': [321, 9763221, 876], 'duplicate': [976321, 9742]}\n",
      "XXXXXXXXXXXXXXXXXXXXXXXXXXXXXXXXXXXXXXXXXXXXXXXXXXXXXXXXXXXXXXXXXXXXXXXXXXXXXXXXXXXXXXXXXXXXXXXXXXXX\n",
      "Returned dictionary:  {'valid': [976321, 9742, 3211], 'invalid': [321, 9763221, 876], 'duplicate': [976321, 9742]}\n",
      "Valid number list obtained from the dictionary:  [976321, 9742, 3211]\n",
      "==================================================\n",
      "^^ Awesomeness checking of the Valid numbers ^^\n",
      "976321 is an awesome number.\n",
      "9742 is an awesome number.\n",
      "3211 is a not-so-awesome number.\n",
      "==================================================\n",
      "Returned value from find_max_min() is: (976321, 3211)\n",
      "Valid number with maximum value is 3211\n",
      "Valid number with minimum value is 976321\n"
     ]
    }
   ],
   "source": [
    "#todo\n",
    "def find_max_min(numbers):\n",
    "    my_list = numbers.copy()\n",
    "    for x in range(len(my_list)-1):\n",
    "        min_index = x\n",
    "        for y in range(x+1,len(my_list)):\n",
    "            if my_list[min_index] > my_list[y]:\n",
    "                min_index = y\n",
    "        my_list[min_index] ,my_list[x] = my_list[x], my_list[min_index]\n",
    "    max_min = my_list[-1],my_list[0]\n",
    "    return max_min\n",
    "def check_awesomeness(num):\n",
    "    num = str(num)\n",
    "    for x in range(len(num)-1):\n",
    "        if int(num[x]) <= int(num[x+1]):\n",
    "            return False\n",
    "    return True\n",
    "def check_awesome(num_list):\n",
    "    for num in num_list:\n",
    "        if check_awesomeness(num):\n",
    "            print(f'{num} is an awesome number.')\n",
    "        else:\n",
    "            print(f'{num} is a not-so-awesome number.')\n",
    "def grouping_data(nums):\n",
    "    result = {'valid': [], 'invalid' : [], 'duplicate': []}\n",
    "    for x in nums:\n",
    "        if 4 <= len(str(x)) <= 6:\n",
    "            if x in result[\"valid\"] or x in result[\"invalid\"]:\n",
    "                result[\"duplicate\"].append(x)\n",
    "            else:\n",
    "                result[\"valid\"].append(x)\n",
    "        else:\n",
    "            result[\"invalid\"].append(x)\n",
    "    print('X'*100)\n",
    "    print(\"Data dictionary printing inside the function:\")\n",
    "    print(result)\n",
    "    print('X'*100)\n",
    "    return result\n",
    "def data_cleaning(nums):\n",
    "    result = []\n",
    "    for x in nums.split(','):\n",
    "        result.append(int(x.strip()))\n",
    "    return result\n",
    "def individual_line_data(nums):\n",
    "    print('Data after cleaning: {}'.format(data_cleaning(nums)))\n",
    "    result = grouping_data(data_cleaning(nums))\n",
    "    print('Returned dictionary: ',result)\n",
    "    print('Valid number list obtained from the dictionary: ', result['valid'])\n",
    "    print('='*50)\n",
    "    print('^^ Awesomeness checking of the Valid numbers ^^')\n",
    "    check_awesome(result['valid'])\n",
    "    print('='*50)\n",
    "    result = find_max_min(result['valid'])\n",
    "    print('Returned value from find_max_min() is: {}'.format(result))\n",
    "    min_num, max_num = result\n",
    "    print(f'Valid number with maximum value is {max_num}')\n",
    "    print(f'Valid number with minimum value is {min_num}')\n",
    "individual_line_data(\"976321, 321 ,    9763221, 9742,      876,       3211, 976321    , 9742\")"
   ]
  },
  {
   "cell_type": "markdown",
   "metadata": {
    "id": "VI-rQb2Djg0u"
   },
   "source": [
    "### Task 7\n",
    "Write a function called **number_analysis** that takes a list of strings as an argument and \n",
    "analyse those strings. \\\n",
    "**<font color='red'>Must reuse the individual_line_data() function.</font>**"
   ]
  },
  {
   "cell_type": "code",
   "execution_count": null,
   "metadata": {
    "id": "Tsnt7_Zsjg0u"
   },
   "outputs": [],
   "source": [
    "#todo"
   ]
  },
  {
   "cell_type": "markdown",
   "metadata": {
    "id": "hEvpvWM6jg0u"
   },
   "source": [
    "### Task 8\n",
    "Run the following block of code for seeing the final output of this Problem.\n",
    "\n",
    "**Output:**\n",
    "######### Printing data for line no: 01 #########\\\n",
    "Data after cleaning: [321, 976322]\\\n",
    "XXXXXXXXXXXXXXXXXXXXXXXXXXXXXXXXXXXXXXXXXXXXXXXXXXXXXXXXXXXXXXXXXXX\\\n",
    "Data dictionary printing inside the function:\\\n",
    "{'valid': [976322], 'invalid': [321], 'duplicate': []}\\\n",
    "XXXXXXXXXXXXXXXXXXXXXXXXXXXXXXXXXXXXXXXXXXXXXXXXXXXXXXXXXXXXXXXXXXXX\\\n",
    "Returned dictionary: {'valid': [976322], 'invalid': [321], 'duplicate': []}\\\n",
    "Valid number list obtained from the dictionary: [976322]\\\n",
    "=================================================\\\n",
    "^_^ Awesomeness checking of the Valid numbers ^_^\\\n",
    "976322 is a not-so-awesome number.\\\n",
    "=================================================\\\n",
    "Returned value from find_max_min() is: (976322, 976322)\\\n",
    "Valid number with maximum value is 976322\\\n",
    "Valid number with minimum value is 976322\n",
    "\n",
    "&emsp; \n",
    "\n",
    "######### Printing data for line no: 02 #########\\\n",
    "Data after cleaning: [97821, 1, 97210, 963, 979210, 979210]\\\n",
    "XXXXXXXXXXXXXXXXXXXXXXXXXXXXXXXXXXXXXXXXXXXXXXXXXXXXXXXXXXXXXXXXXXX\\\n",
    "Data dictionary printing inside the function:\\\n",
    "{'valid': [97821, 97210, 979210], 'invalid': [1, 963], 'duplicate': [979210]}\\\n",
    "XXXXXXXXXXXXXXXXXXXXXXXXXXXXXXXXXXXXXXXXXXXXXXXXXXXXXXXXXXXXXXXXXXXX\\\n",
    "Returned dictionary: {'valid': [97821, 97210, 979210], 'invalid': [1, 963], 'duplicate': [979210]}\\\n",
    "Valid number list obtained from the dictionary: [97821, 97210, 979210]\\\n",
    "=================================================\\\n",
    "^_^ Awesomeness checking of the Valid numbers ^_^\\\n",
    "97821 is a not-so-awesome number.\\\n",
    "97210 is an awesome number.\\\n",
    "979210 is a not-so-awesome number.\\\n",
    "=================================================\\\n",
    "Returned value from find_max_min() is: (979210, 97210)\\\n",
    "Valid number with maximum value is 979210\\\n",
    "Valid number with minimum value is 97210\n",
    "\n",
    "&emsp; \n",
    "\n",
    "######### Printing data for line no: 03 #########\\\n",
    "Data after cleaning: [976321, 321, 9763221, 9742, 876, 3211]\\\n",
    "XXXXXXXXXXXXXXXXXXXXXXXXXXXXXXXXXXXXXXXXXXXXXXXXXXXXXXXXXXXXXXXXXXX\\\n",
    "Data dictionary printing inside the function:\\\n",
    "{'valid': [976321, 9742, 3211], 'invalid': [321, 9763221, 876], 'duplicate': []}\\\n",
    "XXXXXXXXXXXXXXXXXXXXXXXXXXXXXXXXXXXXXXXXXXXXXXXXXXXXXXXXXXXXXXXXXXXX\\\n",
    "Returned dictionary: {'valid': [976321, 9742, 3211], 'invalid': [321, 9763221, 876], 'duplicate': []}\\\n",
    "Valid number list obtained from the dictionary: [976321, 9742, 3211]\\\n",
    "=================================================\\\n",
    "^_^ Awesomeness checking of the Valid numbers ^_^\\\n",
    "976321 is an awesome number.\\\n",
    "9742 is an awesome number.\\\n",
    "3211 is a not-so-awesome number.\\\n",
    "=================================================\\\n",
    "Returned value from find_max_min() is: (976321, 3211)\\\n",
    "Valid number with maximum value is 976321\\\n",
    "Valid number with minimum value is 3211\n",
    "\n",
    "&emsp;\n",
    "\n",
    "######### Printing data for line no: 04 #########\\\n",
    "Data after cleaning: [976321, 321, 9763221, 9742, 876, 3211, 976321, 9742]\\\n",
    "XXXXXXXXXXXXXXXXXXXXXXXXXXXXXXXXXXXXXXXXXXXXXXXXXXXXXXXXXXXXXXXXXXX\\\n",
    "Data dictionary printing inside the function:\\\n",
    "{'valid': [976321, 9742, 3211], 'invalid': [321, 9763221, 876], 'duplicate': [976321, 9742]}\\\n",
    "XXXXXXXXXXXXXXXXXXXXXXXXXXXXXXXXXXXXXXXXXXXXXXXXXXXXXXXXXXXXXXXXXXXX\\\n",
    "Returned dictionary: {'valid': [976321, 9742, 3211], 'invalid': [321, 9763221, 876], 'duplicate': [976321, 9742]}\\\n",
    "Valid number list obtained from the dictionary: [976321, 9742, 3211]\\\n",
    "=================================================\\\n",
    "^_^ Awesomeness checking of the Valid numbers ^_^\\\n",
    "976321 is an awesome number.\\\n",
    "9742 is an awesome number.\\\n",
    "3211 is a not-so-awesome number.\\\n",
    "=================================================\\\n",
    "Returned value from find_max_min() is: (976321, 3211)\\\n",
    "Valid number with maximum value is 976321\\\n",
    "Valid number with minimum value is 3211"
   ]
  },
  {
   "cell_type": "code",
   "execution_count": null,
   "metadata": {
    "id": "0oSfIiI7jg0v"
   },
   "outputs": [],
   "source": [
    "lines_of_data = [\n",
    "    \"321 ,   976322\",\n",
    "    \"97821, 1 , 97210, 963, 979210 , 979210\",\n",
    "    \"976321, 321 ,   9763221, 9742, 876, 3211\",\n",
    "    \"976321, 321 ,   9763221, 9742, 876, 3211, 976321, 9742\"\n",
    "]\n",
    "\n",
    "number_analysis(lines_of_data)"
   ]
  },
  {
   "cell_type": "code",
   "execution_count": null,
   "metadata": {
    "id": "cW8s6yUejg0v"
   },
   "outputs": [],
   "source": []
  },
  {
   "cell_type": "code",
   "execution_count": null,
   "metadata": {
    "id": "KwxWPdJrjg0w"
   },
   "outputs": [],
   "source": []
  },
  {
   "cell_type": "code",
   "execution_count": null,
   "metadata": {
    "id": "ydKt7Y-ujg0w"
   },
   "outputs": [],
   "source": []
  }
 ],
 "metadata": {
  "colab": {
   "name": "PRACTICE_Function_v3_QUES.ipynb",
   "provenance": []
  },
  "kernelspec": {
   "display_name": "Python 3 (ipykernel)",
   "language": "python",
   "name": "python3"
  },
  "language_info": {
   "codemirror_mode": {
    "name": "ipython",
    "version": 3
   },
   "file_extension": ".py",
   "mimetype": "text/x-python",
   "name": "python",
   "nbconvert_exporter": "python",
   "pygments_lexer": "ipython3",
   "version": "3.9.7"
  }
 },
 "nbformat": 4,
 "nbformat_minor": 1
}
